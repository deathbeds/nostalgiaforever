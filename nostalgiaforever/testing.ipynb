{
 "cells": [
  {
   "cell_type": "markdown",
   "metadata": {},
   "source": [
    "# Notebooks as modules can be used as formal tests\n",
    "\n",
    "Formal Tests...\n",
    "\n",
    "* ... promote reproducibility and reusability.\n",
    "* ... transform a hypothesis into an assumption.\n",
    "* ... make computers perform redundant tasks."
   ]
  },
  {
   "cell_type": "code",
   "execution_count": 1,
   "metadata": {},
   "outputs": [],
   "source": [
    "    \n",
    "    __file__ = globals().get('__file__', 'importing.ipynb')\n",
    "    from IPython import get_ipython\n",
    "    from IPython.display import Markdown\n",
    "    o = __name__ == '__main__'\n",
    "    with __import__('importnb').Notebook():\n",
    "\n",
    "        try: \n",
    "            from .util import __ipython__\n",
    "        except: \n",
    "            from util import __ipython__\n",
    "            if __ipython__:\n",
    "                %reload_ext pidgin\n",
    "                %pidgin conventions markdown "
   ]
  },
  {
   "cell_type": "code",
   "execution_count": 2,
   "metadata": {},
   "outputs": [
    {
     "data": {
      "text/markdown": [
       "# The first test is the hardest to write\n",
       "    \n",
       "    __import__('IPython').display.YouTubeVideo(\"fA7LGqwjhYs\")"
      ],
      "text/plain": [
       "# The first test is the hardest to write\n",
       "    \n",
       "    __import__('IPython').display.YouTubeVideo(\"fA7LGqwjhYs\")"
      ]
     },
     "metadata": {},
     "output_type": "display_data"
    },
    {
     "data": {
      "image/jpeg": "[encoded data removed]",
      "text/html": [
       "\n",
       "        <iframe\n",
       "            width=\"400\"\n",
       "            height=\"300\"\n",
       "            src=\"https://www.youtube.com/embed/fA7LGqwjhYs\"\n",
       "            frameborder=\"0\"\n",
       "            allowfullscreen\n",
       "        ></iframe>\n",
       "        "
      ],
      "text/plain": [
       "<IPython.lib.display.YouTubeVideo at 0x10f409940>"
      ]
     },
     "execution_count": 2,
     "metadata": {},
     "output_type": "execute_result"
    }
   ],
   "source": [
    "# The first test is the hardest to write\n",
    "    \n",
    "    __import__('IPython').display.YouTubeVideo(\"fA7LGqwjhYs\")"
   ]
  },
  {
   "cell_type": "code",
   "execution_count": 3,
   "metadata": {},
   "outputs": [
    {
     "data": {
      "text/markdown": [
       "    import doctest # is part of the standard lib\n",
       "\n",
       "# docttest\n",
       "    \n",
       "`doctest`s are strings that contain tests.  Generally they are defined in [docstrings (PEP 257)](https://www.python.org/dev/peps/pep-0257/).\n",
       "    \n",
       "    def test_my_string_function(): \n",
       "        \"\"\">>> assert '💯'\n",
       "        \n",
       "        >>> \"Test an output\".upper()\n",
       "        'TEST AN OUTPUT'\n",
       "        \"\"\"    \n",
       "        \n",
       "    class testMyStringClass:\n",
       "        \"\"\">>> assert '👌'\"\"\"\n",
       "        \n",
       "> Doctests are my first approach to formal notebook testing"
      ],
      "text/plain": [
       "    import doctest # is part of the standard lib\n",
       "\n",
       "# docttest\n",
       "    \n",
       "`doctest`s are strings that contain tests.  Generally they are defined in [docstrings (PEP 257)](https://www.python.org/dev/peps/pep-0257/).\n",
       "    \n",
       "    def test_my_string_function(): \n",
       "        \"\"\">>> assert '💯'\n",
       "        \n",
       "        >>> \"Test an output\".upper()\n",
       "        'TEST AN OUTPUT'\n",
       "        \"\"\"    \n",
       "        \n",
       "    class testMyStringClass:\n",
       "        \"\"\">>> assert '👌'\"\"\"\n",
       "        \n",
       "> Doctests are my first approach to formal notebook testing"
      ]
     },
     "metadata": {},
     "output_type": "display_data"
    }
   ],
   "source": [
    "    import doctest # is part of the standard lib\n",
    "\n",
    "# docttest\n",
    "    \n",
    "`doctest`s are strings that contain tests.  Generally they are defined in [docstrings (PEP 257)](https://www.python.org/dev/peps/pep-0257/).\n",
    "    \n",
    "    def test_my_string_function(): \n",
    "        \"\"\">>> assert '💯'\n",
    "        \n",
    "        >>> \"Test an output\".upper()\n",
    "        'TEST AN OUTPUT'\n",
    "        \"\"\"    \n",
    "        \n",
    "    class testMyStringClass:\n",
    "        \"\"\">>> assert '👌'\"\"\"\n",
    "        \n",
    "> Doctests are my first approach to formal notebook testing"
   ]
  },
  {
   "cell_type": "code",
   "execution_count": 4,
   "metadata": {},
   "outputs": [
    {
     "data": {
      "text/markdown": [
       "<hr/>\n",
       "\n",
       "\n",
       "# Running doctest   \n",
       "\n",
       "Doctests run transparently when `__name__ == '__main__'`.\n",
       "\n",
       "    if __name__ == '__main__':\n",
       "        doctest.testmod(verbose=2)\n",
       "        \n",
       "---"
      ],
      "text/plain": [
       "<hr/>\n",
       "\n",
       "\n",
       "# Running doctest   \n",
       "\n",
       "Doctests run transparently when `__name__ == '__main__'`.\n",
       "\n",
       "    if __name__ == '__main__':\n",
       "        doctest.testmod(verbose=2)\n",
       "        \n",
       "---"
      ]
     },
     "metadata": {},
     "output_type": "display_data"
    },
    {
     "name": "stdout",
     "output_type": "stream",
     "text": [
      "Trying:\n",
      "    assert '👌'\n",
      "Expecting nothing\n",
      "ok\n",
      "Trying:\n",
      "    assert '💯'\n",
      "Expecting nothing\n",
      "ok\n",
      "Trying:\n",
      "    \"Test an output\".upper()\n",
      "Expecting:\n",
      "    'TEST AN OUTPUT'\n",
      "ok\n",
      "1 items had no tests:\n",
      "    __main__\n",
      "2 items passed all tests:\n",
      "   1 tests in __main__.testMyStringClass\n",
      "   2 tests in __main__.test_my_string_function\n",
      "3 tests in 3 items.\n",
      "3 passed and 0 failed.\n",
      "Test passed.\n"
     ]
    }
   ],
   "source": [
    "<hr/>\n",
    "\n",
    "# Running doctest   \n",
    "\n",
    "Doctests run transparently when `__name__ == '__main__'`.\n",
    "\n",
    "    if __name__ == '__main__':\n",
    "        doctest.testmod(verbose=2)\n",
    "        \n",
    "---"
   ]
  },
  {
   "cell_type": "code",
   "execution_count": 11,
   "metadata": {},
   "outputs": [
    {
     "data": {
      "text/markdown": [
       "<hr/><hr/><hr/><hr/><hr/>\n",
       "\n",
       "# This notebook - `testing.ipynb` - imports `testing` and `importing`\n",
       "    \n",
       "    from importnb import Notebook, reload\n",
       "    with Notebook():\n",
       "        try:\n",
       "            import importing, testing\n",
       "        except:\n",
       "            from . import importing, testing"
      ],
      "text/plain": [
       "<hr/><hr/><hr/><hr/><hr/>\n",
       "\n",
       "# This notebook - `testing.ipynb` - imports `testing` and `importing`\n",
       "    \n",
       "    from importnb import Notebook, reload\n",
       "    with Notebook():\n",
       "        try:\n",
       "            import importing, testing\n",
       "        except:\n",
       "            from . import importing, testing"
      ]
     },
     "metadata": {},
     "output_type": "display_data"
    }
   ],
   "source": [
    "<hr/><hr/><hr/><hr/><hr/>\n",
    "\n",
    "# This notebook - `testing.ipynb` - imports `testing` and `importing`\n",
    "    \n",
    "    from importnb import Notebook, reload\n",
    "    with Notebook():\n",
    "        try:\n",
    "            import importing, testing\n",
    "        except:\n",
    "            from . import importing, testing"
   ]
  },
  {
   "cell_type": "code",
   "execution_count": 12,
   "metadata": {},
   "outputs": [
    {
     "data": {
      "text/markdown": [
       "---\n",
       "\n",
       "Doctests may test a module too.\n",
       "\n",
       "    if __name__ == '__main__':\n",
       "        doctest.testmod(testing, verbose=2)\n",
       "            "
      ],
      "text/plain": [
       "---\n",
       "\n",
       "Doctests may test a module too.\n",
       "\n",
       "    if __name__ == '__main__':\n",
       "        doctest.testmod(testing, verbose=2)\n",
       "            "
      ]
     },
     "metadata": {},
     "output_type": "display_data"
    },
    {
     "name": "stdout",
     "output_type": "stream",
     "text": [
      "Trying:\n",
      "    assert True\n",
      "Expecting nothing\n",
      "ok\n",
      "Trying:\n",
      "    assert '👌'\n",
      "Expecting nothing\n",
      "ok\n",
      "Trying:\n",
      "    assert '💯'\n",
      "Expecting nothing\n",
      "ok\n",
      "Trying:\n",
      "    \"Test an output\".upper()\n",
      "Expecting:\n",
      "    'TEST AN OUTPUT'\n",
      "ok\n",
      "4 items had no tests:\n",
      "    testing\n",
      "    testing.InteractiveTest\n",
      "    testing.InteractiveTest.test_something\n",
      "    testing.load_tests\n",
      "3 items passed all tests:\n",
      "   1 tests in testing.__test__.aTest\n",
      "   1 tests in testing.testMyStringClass\n",
      "   2 tests in testing.test_my_string_function\n",
      "4 tests in 7 items.\n",
      "4 passed and 0 failed.\n",
      "Test passed.\n"
     ]
    }
   ],
   "source": [
    "---\n",
    "\n",
    "Doctests may test a module too.\n",
    "\n",
    "    if __name__ == '__main__':\n",
    "        doctest.testmod(testing, verbose=2)\n",
    "            "
   ]
  },
  {
   "cell_type": "code",
   "execution_count": 13,
   "metadata": {},
   "outputs": [
    {
     "data": {
      "text/markdown": [
       "## `__test__` is a reserved [word](https://docs.python.org/3/library/doctest.html#which-docstrings-are-examined) \n",
       "    \n",
       "    __test__ = dict(aTest=\"\"\"This is a docttest\n",
       "    >>> assert True\"\"\")\n",
       "    if __name__ == '__main__':\n",
       "        __import__('doctest').testmod(verbose=2)"
      ],
      "text/plain": [
       "## `__test__` is a reserved [word](https://docs.python.org/3/library/doctest.html#which-docstrings-are-examined) \n",
       "    \n",
       "    __test__ = dict(aTest=\"\"\"This is a docttest\n",
       "    >>> assert True\"\"\")\n",
       "    if __name__ == '__main__':\n",
       "        __import__('doctest').testmod(verbose=2)"
      ]
     },
     "metadata": {},
     "output_type": "display_data"
    },
    {
     "name": "stdout",
     "output_type": "stream",
     "text": [
      "Trying:\n",
      "    assert True\n",
      "Expecting nothing\n",
      "ok\n",
      "Trying:\n",
      "    assert '👌'\n",
      "Expecting nothing\n",
      "ok\n",
      "Trying:\n",
      "    assert '💯'\n",
      "Expecting nothing\n",
      "ok\n",
      "Trying:\n",
      "    \"Test an output\".upper()\n",
      "Expecting:\n",
      "    'TEST AN OUTPUT'\n",
      "ok\n",
      "4 items had no tests:\n",
      "    __main__\n",
      "    __main__.InteractiveTest\n",
      "    __main__.InteractiveTest.test_something\n",
      "    __main__.load_tests\n",
      "3 items passed all tests:\n",
      "   1 tests in __main__.__test__.aTest\n",
      "   1 tests in __main__.testMyStringClass\n",
      "   2 tests in __main__.test_my_string_function\n",
      "4 tests in 7 items.\n",
      "4 passed and 0 failed.\n",
      "Test passed.\n"
     ]
    }
   ],
   "source": [
    "## `__test__` is a reserved [word](https://docs.python.org/3/library/doctest.html#which-docstrings-are-examined) \n",
    "    \n",
    "    __test__ = dict(aTest=\"\"\"This is a docttest\n",
    "    >>> assert True\"\"\")\n",
    "    if __name__ == '__main__':\n",
    "        __import__('doctest').testmod(verbose=2)"
   ]
  },
  {
   "cell_type": "code",
   "execution_count": 14,
   "metadata": {},
   "outputs": [
    {
     "data": {
      "text/markdown": [
       "# Python Unit Testing\n",
       "    \n",
       "    import unittest # is part of the standard lib\n",
       "    \n",
       "    class InteractiveTest(unittest.TestCase):\n",
       "        def test_something(test):\n",
       "            assert importing.__file__.endswith('.ipynb')\n",
       "            assert testing.__file__.endswith('.ipynb')\n",
       "            \n",
       "## Unit testing can used during an interactive compute session\n",
       "\n",
       "    if __name__ == '__main__':\n",
       "        try:   \n",
       "            unittest.main(argv='testing.ipynb --verbose'.split())            \n",
       "        except SystemExit: ..."
      ],
      "text/plain": [
       "# Python Unit Testing\n",
       "    \n",
       "    import unittest # is part of the standard lib\n",
       "    \n",
       "    class InteractiveTest(unittest.TestCase):\n",
       "        def test_something(test):\n",
       "            assert importing.__file__.endswith('.ipynb')\n",
       "            assert testing.__file__.endswith('.ipynb')\n",
       "            \n",
       "## Unit testing can used during an interactive compute session\n",
       "\n",
       "    if __name__ == '__main__':\n",
       "        try:   \n",
       "            unittest.main(argv='testing.ipynb --verbose'.split())            \n",
       "        except SystemExit: ..."
      ]
     },
     "metadata": {},
     "output_type": "display_data"
    },
    {
     "name": "stderr",
     "output_type": "stream",
     "text": [
      "test_something (__main__.InteractiveTest) ... ok\n",
      "aTest (__main__.__test__)\n",
      "Doctest: __main__.__test__.aTest ... ok\n",
      "testMyStringClass (__main__)\n",
      "Doctest: __main__.testMyStringClass ... ok\n",
      "test_my_string_function (__main__)\n",
      "Doctest: __main__.test_my_string_function ... ok\n",
      "\n",
      "----------------------------------------------------------------------\n",
      "Ran 4 tests in 0.007s\n",
      "\n",
      "OK\n"
     ]
    }
   ],
   "source": [
    "# Python Unit Testing\n",
    "    \n",
    "    import unittest # is part of the standard lib\n",
    "    \n",
    "    class InteractiveTest(unittest.TestCase):\n",
    "        def test_something(test):\n",
    "            assert importing.__file__.endswith('.ipynb')\n",
    "            assert testing.__file__.endswith('.ipynb')\n",
    "            \n",
    "## Unit testing can used during an interactive compute session\n",
    "\n",
    "    if __name__ == '__main__':\n",
    "        try:   \n",
    "            unittest.main(argv='testing.ipynb --verbose'.split())            \n",
    "        except SystemExit: ..."
   ]
  },
  {
   "cell_type": "code",
   "execution_count": 9,
   "metadata": {},
   "outputs": [
    {
     "data": {
      "text/markdown": [
       "## [`unittest` and `doctest`](https://docs.python.org/3/library/doctest.html#unittest-api)\n",
       "\n",
       "\n",
       "    def load_tests(loader, tests, ignore):\n",
       "        import doctest\n",
       "        tests.addTests(doctest.DocTestSuite(__import__(__name__)))\n",
       "        return tests\n",
       "    \n",
       "    if __name__ == '__main__':\n",
       "        try:   \n",
       "            unittest.main(argv='testing.ipynb --verbose'.split())\n",
       "        except SystemExit: ..."
      ],
      "text/plain": [
       "## [`unittest` and `doctest`](https://docs.python.org/3/library/doctest.html#unittest-api)\n",
       "\n",
       "\n",
       "    def load_tests(loader, tests, ignore):\n",
       "        import doctest\n",
       "        tests.addTests(doctest.DocTestSuite(__import__(__name__)))\n",
       "        return tests\n",
       "    \n",
       "    if __name__ == '__main__':\n",
       "        try:   \n",
       "            unittest.main(argv='testing.ipynb --verbose'.split())\n",
       "        except SystemExit: ..."
      ]
     },
     "metadata": {},
     "output_type": "display_data"
    },
    {
     "name": "stderr",
     "output_type": "stream",
     "text": [
      "test_something (__main__.InteractiveTest) ... ok\n",
      "aTest (__main__.__test__)\n",
      "Doctest: __main__.__test__.aTest ... ok\n",
      "testMyStringClass (__main__)\n",
      "Doctest: __main__.testMyStringClass ... ok\n",
      "test_my_string_function (__main__)\n",
      "Doctest: __main__.test_my_string_function ... ok\n",
      "\n",
      "----------------------------------------------------------------------\n",
      "Ran 4 tests in 0.008s\n",
      "\n",
      "OK\n"
     ]
    }
   ],
   "source": [
    "## [`unittest` and `doctest`](https://docs.python.org/3/library/doctest.html#unittest-api)\n",
    "\n",
    "\n",
    "    def load_tests(loader, tests, ignore):\n",
    "        import doctest\n",
    "        tests.addTests(doctest.DocTestSuite(__import__(__name__)))\n",
    "        return tests\n",
    "    \n",
    "    if __name__ == '__main__':\n",
    "        try:   \n",
    "            unittest.main(argv='testing.ipynb --verbose'.split())\n",
    "        except SystemExit: ..."
   ]
  },
  {
   "cell_type": "markdown",
   "metadata": {},
   "source": [
    "# Summary\n",
    "\n",
    "Notebook's will tests provide meaningful diagnostics when interactively computing.  The results module is reusable with external testing tools.\n",
    "\n",
    "# [[Python Guide] Testing your code](http://docs.python-guide.org/en/latest/writing/tests/#testing-your-code)"
   ]
  },
  {
   "cell_type": "code",
   "execution_count": 15,
   "metadata": {},
   "outputs": [
    {
     "data": {
      "text/markdown": [
       "<hr/><hr/><hr/><hr/><hr/>\n",
       "\n",
       "\n",
       "# Summary [clear all output then \"Run All\" -- or it didn't happen]\n",
       "\n",
       "If a notebook will restart and run all then it may report test results."
      ],
      "text/plain": [
       "<hr/><hr/><hr/><hr/><hr/>\n",
       "\n",
       "\n",
       "# Summary [clear all output then \"Run All\" -- or it didn't happen]\n",
       "\n",
       "If a notebook will restart and run all then it may report test results."
      ]
     },
     "metadata": {},
     "output_type": "display_data"
    }
   ],
   "source": [
    "<hr/><hr/><hr/><hr/><hr/>\n",
    "\n",
    "\n",
    "# Summary [clear all output then \"Run All\" -- or it didn't happen]\n",
    "\n",
    "If a notebook will restart and run all then it may report test results."
   ]
  },
  {
   "cell_type": "code",
   "execution_count": 10,
   "metadata": {},
   "outputs": [
    {
     "data": {
      "text/markdown": [
       "## Testing the module\n",
       "\n",
       "    if __name__ == '__main__':\n",
       "        try:   \n",
       "            unittest.main(testing, argv='discover --verbose'.split())\n",
       "        except SystemExit: ..."
      ],
      "text/plain": [
       "## Testing the module\n",
       "\n",
       "    if __name__ == '__main__':\n",
       "        try:   \n",
       "            unittest.main(testing, argv='discover --verbose'.split())\n",
       "        except SystemExit: ..."
      ]
     },
     "metadata": {},
     "output_type": "display_data"
    },
    {
     "name": "stderr",
     "output_type": "stream",
     "text": [
      "test_something (testing.InteractiveTest) ... ok\n",
      "aTest (testing.__test__)\n",
      "Doctest: testing.__test__.aTest ... ok\n",
      "testMyStringClass (testing)\n",
      "Doctest: testing.testMyStringClass ... ok\n",
      "test_my_string_function (testing)\n",
      "Doctest: testing.test_my_string_function ... ok\n",
      "\n",
      "----------------------------------------------------------------------\n",
      "Ran 4 tests in 0.006s\n",
      "\n",
      "OK\n"
     ]
    }
   ],
   "source": [
    "## Testing the module\n",
    "\n",
    "    if __name__ == '__main__':\n",
    "        try:   \n",
    "            unittest.main(testing, argv='discover --verbose'.split())\n",
    "        except SystemExit: ..."
   ]
  }
 ],
 "metadata": {
  "kernelspec": {
   "display_name": "p6",
   "language": "python",
   "name": "other-env"
  },
  "language_info": {
   "codemirror_mode": {
    "name": "ipython",
    "version": 3
   },
   "file_extension": ".py",
   "mimetype": "text/x-python",
   "name": "python",
   "nbconvert_exporter": "python",
   "pygments_lexer": "ipython3",
   "version": "3.6.3"
  }
 },
 "nbformat": 4,
 "nbformat_minor": 2
}
