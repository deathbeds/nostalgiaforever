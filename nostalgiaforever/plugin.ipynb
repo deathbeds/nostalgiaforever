{
 "cells": [
  {
   "cell_type": "code",
   "execution_count": 1,
   "metadata": {},
   "outputs": [],
   "source": [
    "    from IPython import get_ipython\n",
    "    from importnb.utils.pytest_plugin import *\n",
    "    from importnb.utils import pytest_plugin\n",
    "    import pytest"
   ]
  },
  {
   "cell_type": "code",
   "execution_count": 2,
   "metadata": {},
   "outputs": [],
   "source": [
    "    class Module(pytest.Module):\n",
    "        def collect(self):\n",
    "            global loader\n",
    "            %load_ext pidgin\n",
    "            %pidgin markdown conventions\n",
    "            with pytest_plugin.Notebook():\n",
    "                return super().collect()"
   ]
  },
  {
   "cell_type": "code",
   "execution_count": 3,
   "metadata": {},
   "outputs": [],
   "source": [
    "    pytest_plugin.Module = Module"
   ]
  },
  {
   "cell_type": "code",
   "execution_count": 4,
   "metadata": {},
   "outputs": [
    {
     "name": "stdout",
     "output_type": "stream",
     "text": [
      "[NbConvertApp] Converting notebook plugin.ipynb to python\n",
      "[NbConvertApp] Writing 608 bytes to plugin.py\n"
     ]
    }
   ],
   "source": [
    "    if __name__ == '__main__':\n",
    "        !jupyter nbconvert --to python plugin.ipynb"
   ]
  },
  {
   "cell_type": "code",
   "execution_count": null,
   "metadata": {},
   "outputs": [],
   "source": []
  }
 ],
 "metadata": {
  "kernelspec": {
   "display_name": "p6",
   "language": "python",
   "name": "other-env"
  },
  "language_info": {
   "codemirror_mode": {
    "name": "ipython",
    "version": 3
   },
   "file_extension": ".py",
   "mimetype": "text/x-python",
   "name": "python",
   "nbconvert_exporter": "python",
   "pygments_lexer": "ipython3",
   "version": "3.6.3"
  }
 },
 "nbformat": 4,
 "nbformat_minor": 2
}
