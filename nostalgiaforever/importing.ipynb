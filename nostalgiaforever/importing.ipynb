{
 "cells": [
  {
   "cell_type": "markdown",
   "metadata": {},
   "source": [
    "<hr/><hr/><hr/><hr/><hr/>\n",
    "\n",
    "\n",
    "# Hypotheses accumulate\n",
    "\n",
    "Managing assumptions and hypotheses is a challenge for any scientist.  Modern scientists write a lot of code and then rewrite that code to create modules."
   ]
  },
  {
   "cell_type": "code",
   "execution_count": 1,
   "metadata": {},
   "outputs": [],
   "source": [
    "    \n",
    "    __file__ = globals().get('__file__', 'importing.ipynb')\n",
    "    from IPython import get_ipython\n",
    "    from IPython.display import Markdown\n",
    "    with __import__('importnb').Notebook():\n",
    "        try: \n",
    "            from .util import __ipython__\n",
    "        except: \n",
    "            from util import __ipython__\n",
    "            if __ipython__:\n",
    "                %reload_ext pidgin\n",
    "                %pidgin conventions markdown "
   ]
  },
  {
   "cell_type": "code",
   "execution_count": 2,
   "metadata": {},
   "outputs": [
    {
     "data": {
      "text/markdown": [
       "<hr/><hr/><hr/><hr/><hr/>\n",
       "\n",
       "# Importing this notebook\n",
       "\n",
       "[`importnb`](https://github.com/deathbeds/importnb/tree/master/src/importnb) is a tool to import notebooks as python modules.\n",
       "    \n",
       "<pre><code>\n",
       "pip install importnb\n",
       "conda install -c conda-forge importnb\n",
       "</code></pre>\n",
       "<br/>\n",
       "    \n",
       "    \n",
       "## This notebook - `importing.ipynb` - imports itself as module `importing`\n",
       "    \n",
       "    from importnb import Notebook, reload\n",
       "    with Notebook():\n",
       "        try:\n",
       "            import importing   \n",
       "        except:\n",
       "            from . import importing\n",
       "        \n",
       "> This module learns from of [`ipynb`](https://github.com/ipython/ipynb) and [`contentmanagement`](https://github.com/jupyter-incubator/contentmanagement)"
      ],
      "text/plain": [
       "<hr/><hr/><hr/><hr/><hr/>\n",
       "\n",
       "# Importing this notebook\n",
       "\n",
       "[`importnb`](https://github.com/deathbeds/importnb/tree/master/src/importnb) is a tool to import notebooks as python modules.\n",
       "    \n",
       "<pre><code>\n",
       "pip install importnb\n",
       "conda install -c conda-forge importnb\n",
       "</code></pre>\n",
       "<br/>\n",
       "    \n",
       "    \n",
       "## This notebook - `importing.ipynb` - imports itself as module `importing`\n",
       "    \n",
       "    from importnb import Notebook, reload\n",
       "    with Notebook():\n",
       "        try:\n",
       "            import importing   \n",
       "        except:\n",
       "            from . import importing\n",
       "        \n",
       "> This module learns from of [`ipynb`](https://github.com/ipython/ipynb) and [`contentmanagement`](https://github.com/jupyter-incubator/contentmanagement)"
      ]
     },
     "metadata": {},
     "output_type": "display_data"
    }
   ],
   "source": [
    "<hr/><hr/><hr/><hr/><hr/>\n",
    "\n",
    "# Importing this notebook\n",
    "\n",
    "[`importnb`](https://github.com/deathbeds/importnb/tree/master/src/importnb) is a tool to import notebooks as python modules.\n",
    "    \n",
    "<pre><code>\n",
    "pip install importnb\n",
    "conda install -c conda-forge importnb\n",
    "</code></pre>\n",
    "<br/>\n",
    "    \n",
    "    \n",
    "## This notebook - `importing.ipynb` - imports itself as module `importing`\n",
    "    \n",
    "    from importnb import Notebook, reload\n",
    "    with Notebook():\n",
    "        try:\n",
    "            import importing   \n",
    "        except:\n",
    "            from . import importing\n",
    "        \n",
    "> This module learns from of [`ipynb`](https://github.com/ipython/ipynb) and [`contentmanagement`](https://github.com/jupyter-incubator/contentmanagement)"
   ]
  },
  {
   "cell_type": "code",
   "execution_count": 3,
   "metadata": {},
   "outputs": [
    {
     "data": {
      "text/markdown": [
       "Create a test function to prove that the source file is in fact an `ipynb` file.\n",
       "    \n",
       "    def test_importing():\n",
       "        assert importing.__name__.endswith('importing')\n",
       "        assert importing.__file__.endswith('.ipynb')"
      ],
      "text/plain": [
       "Create a test function to prove that the source file is in fact an `ipynb` file.\n",
       "    \n",
       "    def test_importing():\n",
       "        assert importing.__name__.endswith('importing')\n",
       "        assert importing.__file__.endswith('.ipynb')"
      ]
     },
     "metadata": {},
     "output_type": "display_data"
    }
   ],
   "source": [
    "Create a test function to prove that the source file is in fact an `ipynb` file.\n",
    "    \n",
    "    def test_importing():\n",
    "        assert importing.__name__.endswith('importing')\n",
    "        assert importing.__file__.endswith('.ipynb')"
   ]
  },
  {
   "cell_type": "code",
   "execution_count": 4,
   "metadata": {},
   "outputs": [
    {
     "data": {
      "text/markdown": [
       "<hr/><hr/><hr/><hr/><hr/>\n",
       "\n",
       "# Interactive computing context vs. a module context\n",
       "\n",
       "    if __name__ == \"__main__\":\n",
       "        test_importing()\n",
       "    "
      ],
      "text/plain": [
       "<hr/><hr/><hr/><hr/><hr/>\n",
       "\n",
       "# Interactive computing context vs. a module context\n",
       "\n",
       "    if __name__ == \"__main__\":\n",
       "        test_importing()\n",
       "    "
      ]
     },
     "metadata": {},
     "output_type": "display_data"
    }
   ],
   "source": [
    "<hr/><hr/><hr/><hr/><hr/>\n",
    "\n",
    "# Interactive computing context vs. a module context\n",
    "\n",
    "    if __name__ == \"__main__\":\n",
    "        test_importing()\n",
    "    "
   ]
  },
  {
   "cell_type": "markdown",
   "metadata": {},
   "source": [
    "<hr/><hr/><hr/><hr/><hr/>\n",
    "\n",
    "# Style guides for the notebook.\n",
    "\n",
    "> ## What we learned about teaching with notebooks (in Oriole)\n",
    ">> [Paco Nathan - Oriole: a new learning medium based on Jupyter + Docker](http://nbviewer.jupyter.org/github/jupyterday-atlanta-2016/oriole_jupyterday_atl/blob/master/oriole_talk.ipynb#What-we-learned-about-teaching-with-notebooks)\n",
    "\n",
    "* ## focus on a concise \"unit of thought\"\n",
    "* invest the time and editorial effort to create a good introduction\n",
    "* keep your narrative simple and reasonably linear\n",
    "* \"chunk\" both the text and the code into understandable parts\n",
    "* alternate between text, code, output, further links, etc.\n",
    "* leverage markdown by providing interesting links for background, deep-dive, etc.\n",
    "* code cells should not be long, < 10 lines\n",
    "* code cells must show that they've run, producing at least *some* output \n",
    "* load data from the container, not the network\n",
    "* ## clear all output then \"Run All\" -- or it didn't happen\n",
    "* video narratives: there's text, and there's subtext...\n",
    "* pause after each \"beat\" -- smile, breathe, allow people to follow you"
   ]
  },
  {
   "cell_type": "code",
   "execution_count": 5,
   "metadata": {},
   "outputs": [
    {
     "data": {
      "text/markdown": [
       "<hr/><hr/><hr/><hr/><hr/>\n",
       "\n",
       "\n",
       "# Summary [clear all output then \"Run All\" -- or it didn't happen]\n",
       "\n",
       "If a notebook will restart and run all then it may be executed or imported as a module."
      ],
      "text/plain": [
       "<hr/><hr/><hr/><hr/><hr/>\n",
       "\n",
       "\n",
       "# Summary [clear all output then \"Run All\" -- or it didn't happen]\n",
       "\n",
       "If a notebook will restart and run all then it may be executed or imported as a module."
      ]
     },
     "metadata": {},
     "output_type": "display_data"
    }
   ],
   "source": [
    "<hr/><hr/><hr/><hr/><hr/>\n",
    "\n",
    "\n",
    "# Summary [clear all output then \"Run All\" -- or it didn't happen]\n",
    "\n",
    "If a notebook will restart and run all then it may be executed or imported as a module."
   ]
  },
  {
   "cell_type": "code",
   "execution_count": 6,
   "metadata": {},
   "outputs": [
    {
     "data": {
      "text/markdown": [
       "---\n",
       "\n",
       "## Reloading the `importing` module\n",
       "\n",
       "    foo = 42\n",
       "    def test_reload():\n",
       "        with Notebook(stdout=True, display=True):\n",
       "            reload(importing)\n",
       "        assert importing.foo == 42\n",
       "    if __ipython__: test_reload()"
      ],
      "text/plain": [
       "---\n",
       "\n",
       "## Reloading the `importing` module\n",
       "\n",
       "    foo = 42\n",
       "    def test_reload():\n",
       "        with Notebook(stdout=True, display=True):\n",
       "            reload(importing)\n",
       "        assert importing.foo == 42\n",
       "    if __ipython__: test_reload()"
      ]
     },
     "metadata": {},
     "output_type": "display_data"
    }
   ],
   "source": [
    "---\n",
    "\n",
    "## Reloading the `importing` module\n",
    "\n",
    "    foo = 42\n",
    "    def test_reload():\n",
    "        with Notebook(stdout=True, display=True):\n",
    "            reload(importing)\n",
    "        assert importing.foo == 42\n",
    "    if __ipython__: test_reload()"
   ]
  },
  {
   "cell_type": "code",
   "execution_count": 9,
   "metadata": {},
   "outputs": [
    {
     "data": {
      "text/markdown": [
       "---\n",
       "\n",
       "\n",
       "## Executing the `importing` notebook script\n",
       "\n",
       "<pre></code>importnb-install</code></pre>\n",
       "\n",
       "Install the importnb extensions to the ipython profile.\n",
       "\n",
       "    \n",
       "    from IPython.utils.capture import capture_output\n",
       "    if __ipython__ and __name__ == '__main__':\n",
       "        with capture_output(stdout=False):\n",
       "            !source activate p6 && ipython --profile pidgin -m importing\n",
       "        ...\n",
       "        "
      ],
      "text/plain": [
       "---\n",
       "\n",
       "\n",
       "## Executing the `importing` notebook script\n",
       "\n",
       "<pre></code>importnb-install</code></pre>\n",
       "\n",
       "Install the importnb extensions to the ipython profile.\n",
       "\n",
       "    \n",
       "    from IPython.utils.capture import capture_output\n",
       "    if __ipython__ and __name__ == '__main__':\n",
       "        with capture_output(stdout=False):\n",
       "            !source activate p6 && ipython --profile pidgin -m importing\n",
       "        ...\n",
       "        "
      ]
     },
     "metadata": {},
     "output_type": "display_data"
    },
    {
     "name": "stdout",
     "output_type": "stream",
     "text": [
      "\u001b]0;IPython: ahypothesis/nostalgiaforever\u0007<hr/><hr/><hr/><hr/><hr/>\n",
      "\n",
      "# Importing this notebook\n",
      "\n",
      "[`importnb`](https://github.com/deathbeds/importnb/tree/master/src/importnb) is a tool to import notebooks as python modules.\n",
      "    \n",
      "<pre><code>\n",
      "pip install importnb\n",
      "conda install -c conda-forge importnb\n",
      "</code></pre>\n",
      "<br/>\n",
      "    \n",
      "    \n",
      "## This notebook - `importing.ipynb` - imports itself as module `importing`\n",
      "    \n",
      "    from importnb import Notebook, reload\n",
      "    with Notebook():\n",
      "        try:\n",
      "            import importing   \n",
      "        except:\n",
      "            from . import importing\n",
      "        \n",
      "> This module learns from of [`ipynb`](https://github.com/ipython/ipynb) and [`contentmanagement`](https://github.com/jupyter-incubator/contentmanagement)\n",
      "Create a test function to prove that the source file is in fact an `ipynb` file.\n",
      "    \n",
      "    def test_importing():\n",
      "        assert importing.__name__.endswith('importing')\n",
      "        assert importing.__file__.endswith('.ipynb')\n",
      "<hr/><hr/><hr/><hr/><hr/>\n",
      "\n",
      "# Interactive computing context vs. a module context\n",
      "\n",
      "    if __name__ == \"__main__\":\n",
      "        test_importing()\n",
      "    \n",
      "<hr/><hr/><hr/><hr/><hr/>\n",
      "\n",
      "\n",
      "# Summary [clear all output then \"Run All\" -- or it didn't happen]\n",
      "\n",
      "If a notebook will restart and run all then it may be executed or imported as a module.\n",
      "---\n",
      "\n",
      "## Reloading the `importing` module\n",
      "\n",
      "    foo = 42\n",
      "    def test_reload():\n",
      "        with Notebook(stdout=True, display=True):\n",
      "            reload(importing)\n",
      "        assert importing.foo == 42\n",
      "    if __ipython__: test_reload()\n",
      "---\n",
      "\n",
      "\n",
      "## Executing the `importing` notebook script\n",
      "\n",
      "<pre></code>importnb-install</code></pre>\n",
      "\n",
      "Install the importnb extensions to the ipython profile.\n",
      "\n",
      "    \n",
      "    from IPython.utils.capture import capture_output\n",
      "    if __ipython__ and __name__ == '__main__':\n",
      "        with capture_output(stdout=False):\n",
      "            !source activate p6 && ipython --profile pidgin -m importing\n",
      "        ...\n",
      "        \n"
     ]
    }
   ],
   "source": [
    "---\n",
    "\n",
    "\n",
    "## Executing the `importing` notebook script\n",
    "\n",
    "<pre></code>importnb-install</code></pre>\n",
    "\n",
    "Install the importnb extensions to the ipython profile.\n",
    "\n",
    "    \n",
    "    from IPython.utils.capture import capture_output\n",
    "    if __ipython__ and __name__ == '__main__':\n",
    "        with capture_output(stdout=False):\n",
    "            !source activate p6 && ipython --profile pidgin -m importing\n",
    "        ...\n",
    "        "
   ]
  },
  {
   "cell_type": "markdown",
   "metadata": {},
   "source": [
    "## Watching the notebook for changes\n",
    "\n",
    "    source activate p6 && cd .. && watchmedo tricks tricks.yml"
   ]
  },
  {
   "cell_type": "markdown",
   "metadata": {},
   "source": [
    "<hr/><hr/><hr/><hr/><hr/>\n",
    "\n",
    "## Our test functions can be reused by a test suite.\n",
    "\n",
    "    if __name__ == '__main__':\n",
    "        import pytest\n",
    "        try: pytest.main(args=\"importing.ipynb\".split())\n",
    "        except SystemExit: ..."
   ]
  },
  {
   "cell_type": "code",
   "execution_count": null,
   "metadata": {},
   "outputs": [],
   "source": []
  }
 ],
 "metadata": {
  "kernelspec": {
   "display_name": "p6",
   "language": "python",
   "name": "other-env"
  },
  "language_info": {
   "codemirror_mode": {
    "name": "ipython",
    "version": 3
   },
   "file_extension": ".py",
   "mimetype": "text/x-python",
   "name": "python",
   "nbconvert_exporter": "python",
   "pygments_lexer": "ipython3",
   "version": "3.6.3"
  }
 },
 "nbformat": 4,
 "nbformat_minor": 2
}
