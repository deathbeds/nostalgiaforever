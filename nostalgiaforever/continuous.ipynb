{
 "cells": [
  {
   "cell_type": "markdown",
   "metadata": {},
   "source": [
    "# A Notebook is a Hypothesis\n",
    "\n",
    "1. ~~[If a notebook is hypothesis then it can be tested.](informal.ipynb)~~\n",
    "2. ~~[If a notebook is a hypothesis then it can be formally tested.](formal.ipynb)~~\n",
    "3. __[If a notebook is a hypothesis then it will be tested.](continuous.ipynb)__"
   ]
  },
  {
   "cell_type": "markdown",
   "metadata": {},
   "source": [
    "## Continuous testing\n",
    "\n",
    "* ... makes one happy there are formal tests.\n",
    "* ... can incremently improve.\n",
    "* ... transforms a hypothesis into another's assumption.\n",
    "* ... considers configurations and environments.\n",
    "* ... relies community tools.\n",
    "\n",
    "Tests transform your hypotheses into someone else's assumptions."
   ]
  },
  {
   "cell_type": "code",
   "execution_count": 1,
   "metadata": {},
   "outputs": [],
   "source": [
    "    from IPython import get_ipython\n",
    "    o = __name__ == '__main__'\n",
    "    try: from .util import __ipython__\n",
    "    except:\n",
    "        if o: \n",
    "            %reload_ext pidgin\n",
    "            %pidgin markdown conventions\n",
    "        from util import __ipython__"
   ]
  },
  {
   "cell_type": "code",
   "execution_count": 2,
   "metadata": {},
   "outputs": [
    {
     "data": {
      "text/markdown": [
       "    def test_eerrrr():\n",
       "        assert True"
      ],
      "text/plain": [
       "    def test_eerrrr():\n",
       "        assert True"
      ]
     },
     "metadata": {},
     "output_type": "display_data"
    }
   ],
   "source": [
    "    def test_eerrrr():\n",
    "        assert True"
   ]
  },
  {
   "cell_type": "code",
   "execution_count": 3,
   "metadata": {},
   "outputs": [
    {
     "data": {
      "text/markdown": [
       "# There are a lot of different styles of testing\n",
       "\n",
       "Unit testing is just one form.\n",
       "    \n",
       "    https://en.wikipedia.org/wiki/Software_testing"
      ],
      "text/plain": [
       "# There are a lot of different styles of testing\n",
       "\n",
       "Unit testing is just one form.\n",
       "    \n",
       "    https://en.wikipedia.org/wiki/Software_testing"
      ]
     },
     "metadata": {},
     "output_type": "display_data"
    },
    {
     "data": {
      "text/html": [
       "\n",
       "        <iframe\n",
       "            width=\"800\"\n",
       "            height=\"600\"\n",
       "            src=\"https://en.m.wikipedia.org/wiki/Software_testing\"\n",
       "            frameborder=\"0\"\n",
       "            allowfullscreen\n",
       "        ></iframe>\n",
       "        "
      ],
      "text/plain": [
       "<IPython.lib.display.IFrame at 0x1066e29b0>"
      ]
     },
     "metadata": {},
     "output_type": "display_data"
    }
   ],
   "source": [
    "# There are a lot of different styles of testing\n",
    "\n",
    "Unit testing is just one form.\n",
    "    \n",
    "    https://en.wikipedia.org/wiki/Software_testing"
   ]
  },
  {
   "cell_type": "code",
   "execution_count": 4,
   "metadata": {},
   "outputs": [
    {
     "data": {
      "text/markdown": [
       "# Python has many testing tools too.\n",
       "    \n",
       "    https://wiki.python.org/moin/PythonTestingToolsTaxonomy"
      ],
      "text/plain": [
       "# Python has many testing tools too.\n",
       "    \n",
       "    https://wiki.python.org/moin/PythonTestingToolsTaxonomy"
      ]
     },
     "metadata": {},
     "output_type": "display_data"
    },
    {
     "data": {
      "text/html": [
       "\n",
       "        <iframe\n",
       "            width=\"800\"\n",
       "            height=\"600\"\n",
       "            src=\"https://wiki.python.org/moin/PythonTestingToolsTaxonomy\"\n",
       "            frameborder=\"0\"\n",
       "            allowfullscreen\n",
       "        ></iframe>\n",
       "        "
      ],
      "text/plain": [
       "<IPython.lib.display.IFrame at 0x1067f7630>"
      ]
     },
     "metadata": {},
     "output_type": "display_data"
    }
   ],
   "source": [
    "# Python has many testing tools too.\n",
    "    \n",
    "    https://wiki.python.org/moin/PythonTestingToolsTaxonomy"
   ]
  },
  {
   "cell_type": "code",
   "execution_count": 5,
   "metadata": {},
   "outputs": [
    {
     "data": {
      "text/markdown": [
       "# Pytest for a better testing experience.\n",
       "\n",
       "    if __name__ == '__main__':\n",
       "        !cd .. && source activate p6 && ipython -m pytest nostalgiaforever/formal.ipynb -- --verbose"
      ],
      "text/plain": [
       "# Pytest for a better testing experience.\n",
       "\n",
       "    if __name__ == '__main__':\n",
       "        !cd .. && source activate p6 && ipython -m pytest nostalgiaforever/formal.ipynb -- --verbose"
      ]
     },
     "metadata": {},
     "output_type": "display_data"
    },
    {
     "name": "stdout",
     "output_type": "stream",
     "text": [
      "\u001b]0;IPython: tonyfast/ahypothesis\u0007\u001b[1m============================= test session starts ==============================\u001b[0m\n",
      "platform darwin -- Python 3.6.3, pytest-3.5.0, py-1.5.3, pluggy-0.6.0 -- /Users/tonyfast/anaconda/envs/p6/bin/python\n",
      "cachedir: .pytest_cache\n",
      "benchmark: 3.1.1 (defaults: timer=time.perf_counter disable_gc=False min_rounds=5 min_time=0.000005 max_time=1.0 calibration_precision=10 warmup=False warmup_iterations=100000)\n",
      "rootdir: /Users/tonyfast/ahypothesis, inifile:\n",
      "plugins: cov-2.5.1, benchmark-3.1.1, hypothesis-3.56.5, importnb-0.2.6, nostalgiaforever-0.0.1\n",
      "collected 8 items                                                              \u001b[0m\n",
      "\n",
      "nostalgiaforever/formal.ipynb::InteractiveTest::test_something \u001b[32mPASSED\u001b[0m\u001b[36m    [ 12%]\u001b[0m\n",
      "nostalgiaforever/formal.ipynb::test_my_string \u001b[32mPASSED\u001b[0m\u001b[36m                     [ 25%]\u001b[0m\n",
      "nostalgiaforever/formal.ipynb::test_me \u001b[32mPASSED\u001b[0m\u001b[36m                            [ 37%]\u001b[0m\n",
      "nostalgiaforever/formal.ipynb::test_hypothesis \u001b[32mPASSED\u001b[0m\u001b[36m                    [ 50%]\u001b[0m\n",
      "nostalgiaforever/formal.ipynb::InteractiveTest::test_something \u001b[32mPASSED\u001b[0m\u001b[36m    [ 50%]\u001b[0m\n",
      "nostalgiaforever/formal.ipynb::test_my_string \u001b[32mPASSED\u001b[0m\u001b[36m                     [ 50%]\u001b[0m\n",
      "nostalgiaforever/formal.ipynb::test_me \u001b[32mPASSED\u001b[0m\u001b[36m                            [ 50%]\u001b[0m\n",
      "nostalgiaforever/formal.ipynb::test_hypothesis \u001b[32mPASSED\u001b[0m\u001b[36m                    [ 50%]\u001b[0m\n",
      "\n",
      "\u001b[32m\u001b[1m=========================== 8 passed in 1.11 seconds ===========================\u001b[0m\n"
     ]
    }
   ],
   "source": [
    "# Pytest for a better testing experience.\n",
    "\n",
    "    if __name__ == '__main__':\n",
    "        !cd .. && source activate p6 && ipython -m pytest nostalgiaforever/formal.ipynb -- --verbose"
   ]
  },
  {
   "cell_type": "code",
   "execution_count": 6,
   "metadata": {},
   "outputs": [
    {
     "data": {
      "text/markdown": [
       "# [Pytest plugins](https://docs.pytest.org/en/2.7.3/plugins_index/index.html)\n",
       "\n",
       "## `importnb` \n",
       "\n",
       "Discovers notebooks as pytest python modules.  This idea builds off of pytest-ipynb, nbval, and ipynb-execute thingy."
      ],
      "text/plain": [
       "# [Pytest plugins](https://docs.pytest.org/en/2.7.3/plugins_index/index.html)\n",
       "\n",
       "## `importnb` \n",
       "\n",
       "Discovers notebooks as pytest python modules.  This idea builds off of pytest-ipynb, nbval, and ipynb-execute thingy."
      ]
     },
     "metadata": {},
     "output_type": "display_data"
    }
   ],
   "source": [
    "# [Pytest plugins](https://docs.pytest.org/en/2.7.3/plugins_index/index.html)\n",
    "\n",
    "## `importnb` \n",
    "\n",
    "Discovers notebooks as pytest python modules.  This idea builds off of pytest-ipynb, nbval, and ipynb-execute thingy."
   ]
  },
  {
   "cell_type": "code",
   "execution_count": 7,
   "metadata": {},
   "outputs": [
    {
     "data": {
      "text/markdown": [
       "## pytest-coverage"
      ],
      "text/plain": [
       "## pytest-coverage"
      ]
     },
     "metadata": {},
     "output_type": "display_data"
    }
   ],
   "source": [
    "## pytest-coverage"
   ]
  },
  {
   "cell_type": "code",
   "execution_count": 8,
   "metadata": {},
   "outputs": [
    {
     "data": {
      "text/markdown": [
       "## Benchmarking\n",
       "    \n",
       "    def sum2d(arr):\n",
       "        M, N = arr.shape\n",
       "        result = 0.0\n",
       "        for i in range(M):\n",
       "            for j in range(N):\n",
       "                result += arr[i,j]\n",
       "        return result\n",
       "\n",
       "    def test_py(benchmark):\n",
       "        from numpy import arange\n",
       "        benchmark(sum2d, arange(100).reshape(10,10))\n",
       "\n",
       "    try:\n",
       "        from numba import jit\n",
       "        from numba import arange\n",
       "        def test_jit(benchmark):\n",
       "            benchmark(jit(sum2d), arange(100).reshape(10,10))\n",
       "    except: ..."
      ],
      "text/plain": [
       "## Benchmarking\n",
       "    \n",
       "    def sum2d(arr):\n",
       "        M, N = arr.shape\n",
       "        result = 0.0\n",
       "        for i in range(M):\n",
       "            for j in range(N):\n",
       "                result += arr[i,j]\n",
       "        return result\n",
       "\n",
       "    def test_py(benchmark):\n",
       "        from numpy import arange\n",
       "        benchmark(sum2d, arange(100).reshape(10,10))\n",
       "\n",
       "    try:\n",
       "        from numba import jit\n",
       "        from numba import arange\n",
       "        def test_jit(benchmark):\n",
       "            benchmark(jit(sum2d), arange(100).reshape(10,10))\n",
       "    except: ..."
      ]
     },
     "metadata": {},
     "output_type": "display_data"
    }
   ],
   "source": [
    "## Benchmarking\n",
    "    \n",
    "    def sum2d(arr):\n",
    "        M, N = arr.shape\n",
    "        result = 0.0\n",
    "        for i in range(M):\n",
    "            for j in range(N):\n",
    "                result += arr[i,j]\n",
    "        return result\n",
    "\n",
    "    def test_py(benchmark):\n",
    "        from numpy import arange\n",
    "        benchmark(sum2d, arange(100).reshape(10,10))\n",
    "\n",
    "    try:\n",
    "        from numba import jit\n",
    "        from numba import arange\n",
    "        def test_jit(benchmark):\n",
    "            benchmark(jit(sum2d), arange(100).reshape(10,10))\n",
    "    except: ..."
   ]
  },
  {
   "cell_type": "code",
   "execution_count": 9,
   "metadata": {},
   "outputs": [
    {
     "data": {
      "text/markdown": [
       "importnb is a plugin and they are easy to write\n",
       "    \n",
       "    https://docs.pytest.org/en/2.7.3/plugins.html"
      ],
      "text/plain": [
       "importnb is a plugin and they are easy to write\n",
       "    \n",
       "    https://docs.pytest.org/en/2.7.3/plugins.html"
      ]
     },
     "metadata": {},
     "output_type": "display_data"
    },
    {
     "data": {
      "text/html": [
       "\n",
       "        <iframe\n",
       "            width=\"800\"\n",
       "            height=\"600\"\n",
       "            src=\"https://docs.pytest.org/en/2.7.3/plugins.html\"\n",
       "            frameborder=\"0\"\n",
       "            allowfullscreen\n",
       "        ></iframe>\n",
       "        "
      ],
      "text/plain": [
       "<IPython.lib.display.IFrame at 0x106872400>"
      ]
     },
     "metadata": {},
     "output_type": "display_data"
    }
   ],
   "source": [
    "importnb is a plugin and they are easy to write\n",
    "    \n",
    "    https://docs.pytest.org/en/2.7.3/plugins.html"
   ]
  },
  {
   "cell_type": "code",
   "execution_count": 10,
   "metadata": {},
   "outputs": [
    {
     "data": {
      "text/markdown": [
       "    o and __import__('pytest').main('formal.ipynb -sq'.split()[:1])"
      ],
      "text/plain": [
       "    o and __import__('pytest').main('formal.ipynb -sq'.split()[:1])"
      ]
     },
     "metadata": {},
     "output_type": "display_data"
    },
    {
     "name": "stdout",
     "output_type": "stream",
     "text": [
      "============================= test session starts ==============================\n",
      "platform darwin -- Python 3.6.3, pytest-3.5.0, py-1.5.3, pluggy-0.6.0\n",
      "benchmark: 3.1.1 (defaults: timer=time.perf_counter disable_gc=False min_rounds=5 min_time=0.000005 max_time=1.0 calibration_precision=10 warmup=False warmup_iterations=100000)\n",
      "rootdir: /Users/tonyfast/ahypothesis, inifile:\n",
      "plugins: cov-2.5.1, benchmark-3.1.1, hypothesis-3.56.5, importnb-0.2.6, nostalgiaforever-0.0.1\n",
      "collected 8 items\n",
      "\n",
      "formal.ipynb ........\n",
      "\n",
      "=========================== 8 passed in 0.68 seconds ===========================\n"
     ]
    },
    {
     "data": {
      "text/plain": [
       "0"
      ]
     },
     "execution_count": 10,
     "metadata": {},
     "output_type": "execute_result"
    }
   ],
   "source": [
    "    o and __import__('pytest').main('formal.ipynb -sq'.split()[:1])"
   ]
  },
  {
   "cell_type": "code",
   "execution_count": 11,
   "metadata": {},
   "outputs": [
    {
     "data": {
      "text/markdown": [
       "    http://gael-varoquaux.info/programming/of-software-and-science-reproducible-science-what-why-and-how.html\n",
       "\n",
       "# If a notebook is a hypothesis then it will be tested."
      ],
      "text/plain": [
       "    http://gael-varoquaux.info/programming/of-software-and-science-reproducible-science-what-why-and-how.html\n",
       "\n",
       "# If a notebook is a hypothesis then it will be tested."
      ]
     },
     "metadata": {},
     "output_type": "display_data"
    },
    {
     "data": {
      "text/html": [
       "\n",
       "        <iframe\n",
       "            width=\"800\"\n",
       "            height=\"600\"\n",
       "            src=\"http://gael-varoquaux.info/programming/of-software-and-science-reproducible-science-what-why-and-how.html\"\n",
       "            frameborder=\"0\"\n",
       "            allowfullscreen\n",
       "        ></iframe>\n",
       "        "
      ],
      "text/plain": [
       "<IPython.lib.display.IFrame at 0x109bf2b70>"
      ]
     },
     "metadata": {},
     "output_type": "display_data"
    }
   ],
   "source": [
    "    http://gael-varoquaux.info/programming/of-software-and-science-reproducible-science-what-why-and-how.html\n",
    "\n",
    "# If a notebook is a hypothesis then it will be tested."
   ]
  },
  {
   "cell_type": "code",
   "execution_count": 12,
   "metadata": {},
   "outputs": [
    {
     "data": {
      "text/markdown": [
       "    https://tox.readthedocs.io/en/latest/\n",
       "\n",
       "# Automated testing with `tox`"
      ],
      "text/plain": [
       "    https://tox.readthedocs.io/en/latest/\n",
       "\n",
       "# Automated testing with `tox`"
      ]
     },
     "metadata": {},
     "output_type": "display_data"
    },
    {
     "data": {
      "text/html": [
       "\n",
       "        <iframe\n",
       "            width=\"800\"\n",
       "            height=\"600\"\n",
       "            src=\"https://tox.readthedocs.io/en/latest/\"\n",
       "            frameborder=\"0\"\n",
       "            allowfullscreen\n",
       "        ></iframe>\n",
       "        "
      ],
      "text/plain": [
       "<IPython.lib.display.IFrame at 0x1068724a8>"
      ]
     },
     "metadata": {},
     "output_type": "display_data"
    }
   ],
   "source": [
    "    https://tox.readthedocs.io/en/latest/\n",
    "\n",
    "# Automated testing with `tox`"
   ]
  },
  {
   "cell_type": "code",
   "execution_count": 13,
   "metadata": {},
   "outputs": [
    {
     "data": {
      "text/markdown": [
       "# Travis"
      ],
      "text/plain": [
       "# Travis"
      ]
     },
     "metadata": {},
     "output_type": "display_data"
    }
   ],
   "source": [
    "# Travis"
   ]
  },
  {
   "cell_type": "code",
   "execution_count": 14,
   "metadata": {},
   "outputs": [
    {
     "data": {
      "text/markdown": [
       "    %%file ../.travis.yml\n",
       "    language: python\n",
       "    python: ['3.6', 3.6-dev]\n",
       "    install:\n",
       "    - python setup.py sdist bdist_wheel\n",
       "    - pip install -r requirements.txt\n",
       "    - python -m pip install dist/nostalgiaforever-*.tar.gz --ignore-installed --no-deps\n",
       "    script:\n",
       "    - ipython --config nostalgiaforever/ipyconfig.py -m pytest nostalgiaforever/formal.ipynb\n",
       "    - ipython --config nostalgiaforever/ipyconfig.py -m unittest tests\n",
       "    - ipython profile create\n",
       "    - importnb-install\n",
       "    - ipython -m readme\n",
       "\n",
       "    deploy: []"
      ],
      "text/plain": [
       "    %%file ../.travis.yml\n",
       "    language: python\n",
       "    python: ['3.6', 3.6-dev]\n",
       "    install:\n",
       "    - python setup.py sdist bdist_wheel\n",
       "    - pip install -r requirements.txt\n",
       "    - python -m pip install dist/nostalgiaforever-*.tar.gz --ignore-installed --no-deps\n",
       "    script:\n",
       "    - ipython --config nostalgiaforever/ipyconfig.py -m pytest nostalgiaforever/formal.ipynb\n",
       "    - ipython --config nostalgiaforever/ipyconfig.py -m unittest tests\n",
       "    - ipython profile create\n",
       "    - importnb-install\n",
       "    - ipython -m readme\n",
       "\n",
       "    deploy: []"
      ]
     },
     "metadata": {},
     "output_type": "display_data"
    },
    {
     "name": "stdout",
     "output_type": "stream",
     "text": [
      "Overwriting ../.travis.yml\n"
     ]
    }
   ],
   "source": [
    "    %%file ../.travis.yml\n",
    "    language: python\n",
    "    python: ['3.6', 3.6-dev]\n",
    "    install:\n",
    "    - python setup.py sdist bdist_wheel\n",
    "    - pip install -r requirements.txt\n",
    "    - python -m pip install dist/nostalgiaforever-*.tar.gz --ignore-installed --no-deps\n",
    "    script:\n",
    "    - ipython --config nostalgiaforever/ipyconfig.py -m pytest nostalgiaforever/formal.ipynb\n",
    "    - ipython --config nostalgiaforever/ipyconfig.py -m unittest tests\n",
    "    - ipython profile create\n",
    "    - importnb-install\n",
    "    - ipython -m readme\n",
    "\n",
    "    deploy: []\n"
   ]
  },
  {
   "cell_type": "code",
   "execution_count": 15,
   "metadata": {},
   "outputs": [
    {
     "data": {
      "text/markdown": [
       "# Travis Dee-Pee-Ell Deployments\n",
       "\n",
       "\n",
       "# [Github](https://pip.pypa.io/en/stable/reference/pip_install/#vcs-support)\n",
       "\n",
       "## Pages "
      ],
      "text/plain": [
       "# Travis Dee-Pee-Ell Deployments\n",
       "\n",
       "\n",
       "# [Github](https://pip.pypa.io/en/stable/reference/pip_install/#vcs-support)\n",
       "\n",
       "## Pages "
      ]
     },
     "metadata": {},
     "output_type": "display_data"
    }
   ],
   "source": [
    "# Travis Dee-Pee-Ell Deployments\n",
    "\n",
    "\n",
    "# [Github](https://pip.pypa.io/en/stable/reference/pip_install/#vcs-support)\n",
    "\n",
    "## Pages "
   ]
  },
  {
   "cell_type": "code",
   "execution_count": 16,
   "metadata": {},
   "outputs": [
    {
     "data": {
      "text/markdown": [
       "## Pypi"
      ],
      "text/plain": [
       "## Pypi"
      ]
     },
     "metadata": {},
     "output_type": "display_data"
    }
   ],
   "source": [
    "## Pypi\n"
   ]
  },
  {
   "cell_type": "code",
   "execution_count": 17,
   "metadata": {},
   "outputs": [
    {
     "data": {
      "text/markdown": [
       "# Reuse the python code you write in notebooks"
      ],
      "text/plain": [
       "# Reuse the python code you write in notebooks"
      ]
     },
     "metadata": {},
     "output_type": "display_data"
    }
   ],
   "source": [
    "# Reuse the python code you write in notebooks"
   ]
  }
 ],
 "metadata": {
  "kernelspec": {
   "display_name": "p6",
   "language": "python",
   "name": "other-env"
  },
  "language_info": {
   "codemirror_mode": {
    "name": "ipython",
    "version": 3
   },
   "file_extension": ".py",
   "mimetype": "text/x-python",
   "name": "python",
   "nbconvert_exporter": "python",
   "pygments_lexer": "ipython3",
   "version": "3.6.3"
  }
 },
 "nbformat": 4,
 "nbformat_minor": 2
}
