{
 "cells": [
  {
   "cell_type": "code",
   "execution_count": 6,
   "metadata": {},
   "outputs": [
    {
     "data": {
      "text/markdown": [
       "    from IPython import get_ipython\n",
       "    o = __name__ == '__main__'\n",
       "    try: from .util import __ipython__\n",
       "    except:\n",
       "        if o: \n",
       "            %reload_ext pidgin\n",
       "            %pidgin markdown conventions\n",
       "        from util import __ipython__"
      ],
      "text/plain": [
       "    from IPython import get_ipython\n",
       "    o = __name__ == '__main__'\n",
       "    try: from .util import __ipython__\n",
       "    except:\n",
       "        if o: \n",
       "            %reload_ext pidgin\n",
       "            %pidgin markdown conventions\n",
       "        from util import __ipython__"
      ]
     },
     "metadata": {},
     "output_type": "display_data"
    }
   ],
   "source": [
    "    from IPython import get_ipython\n",
    "    o = __name__ == '__main__'\n",
    "    try: from .util import __ipython__\n",
    "    except:\n",
    "        if o: \n",
    "            %reload_ext pidgin\n",
    "            %pidgin markdown conventions\n",
    "        from util import __ipython__"
   ]
  },
  {
   "cell_type": "code",
   "execution_count": 7,
   "metadata": {},
   "outputs": [
    {
     "data": {
      "text/markdown": [
       "<hr/><hr/><hr/><hr/><hr/>\n",
       "\n",
       "# This notebook - `reuse.ipynb` - imports itself `testing`, `importing`, and `reuse`\n",
       "    \n",
       "    from importnb import Notebook, reload\n",
       "    with Notebook():\n",
       "        try:\n",
       "            import importing, testing, reuse\n",
       "        except:\n",
       "            from . import importing, testing, reuse\n",
       "        "
      ],
      "text/plain": [
       "<hr/><hr/><hr/><hr/><hr/>\n",
       "\n",
       "# This notebook - `reuse.ipynb` - imports itself `testing`, `importing`, and `reuse`\n",
       "    \n",
       "    from importnb import Notebook, reload\n",
       "    with Notebook():\n",
       "        try:\n",
       "            import importing, testing, reuse\n",
       "        except:\n",
       "            from . import importing, testing, reuse\n",
       "        "
      ]
     },
     "metadata": {},
     "output_type": "display_data"
    }
   ],
   "source": [
    "<hr/><hr/><hr/><hr/><hr/>\n",
    "\n",
    "# This notebook - `reuse.ipynb` - imports itself `testing`, `importing`, and `reuse`\n",
    "    \n",
    "    from importnb import Notebook, reload\n",
    "    with Notebook():\n",
    "        try:\n",
    "            import importing, testing, reuse\n",
    "        except:\n",
    "            from . import importing, testing, reuse\n",
    "        "
   ]
  },
  {
   "cell_type": "code",
   "execution_count": 8,
   "metadata": {},
   "outputs": [
    {
     "data": {
      "text/markdown": [
       "# How reusable are `importing` and `testing`\n",
       "\n",
       "\n",
       "    import pytest\n",
       "    if __name__ == '__main__':\n",
       "        pytest.main([\n",
       "            getattr(object, '__file__') for object in (importing, testing)\n",
       "        ] + '-p no:pytest-importnb'.split())"
      ],
      "text/plain": [
       "# How reusable are `importing` and `testing`\n",
       "\n",
       "\n",
       "    import pytest\n",
       "    if __name__ == '__main__':\n",
       "        pytest.main([\n",
       "            getattr(object, '__file__') for object in (importing, testing)\n",
       "        ] + '-p no:pytest-importnb'.split())"
      ]
     },
     "metadata": {},
     "output_type": "display_data"
    },
    {
     "name": "stdout",
     "output_type": "stream",
     "text": [
      "============================= test session starts ==============================\n",
      "platform darwin -- Python 3.6.3, pytest-3.5.0, py-1.5.3, pluggy-0.6.0\n",
      "benchmark: 3.1.1 (defaults: timer=time.perf_counter disable_gc=False min_rounds=5 min_time=0.000005 max_time=1.0 calibration_precision=10 warmup=False warmup_iterations=100000)\n",
      "rootdir: /Users/tonyfast/ahypothesis, inifile:\n",
      "plugins: cov-2.5.1, benchmark-3.1.1, hypothesis-3.56.5, nostalgiaforever-0.0.1\n",
      "collected 4 items\n",
      "\n",
      "importing.ipynb ..                                                       [ 50%]\n",
      "testing.ipynb ..                                                         [100%]\n",
      "\n",
      "=============================== warnings summary ===============================\n",
      "None\n",
      "  Module already imported so cannot be rewritten: pytest_cov\n",
      "  Module already imported so cannot be rewritten: pytest_benchmark\n",
      "  Module already imported so cannot be rewritten: hypothesis\n",
      "  Module already imported so cannot be rewritten: nostalgiaforever\n",
      "\n",
      "-- Docs: http://doc.pytest.org/en/latest/warnings.html\n",
      "===================== 4 passed, 4 warnings in 0.08 seconds =====================\n"
     ]
    }
   ],
   "source": [
    "# How reusable are `importing` and `testing`\n",
    "\n",
    "\n",
    "    import pytest\n",
    "    if __name__ == '__main__':\n",
    "        pytest.main([\n",
    "            getattr(object, '__file__') for object in (importing, testing)\n",
    "        ] + '-p no:pytest-importnb'.split())"
   ]
  },
  {
   "cell_type": "markdown",
   "metadata": {},
   "source": [
    "# [Pytest plugins](https://docs.pytest.org/en/2.7.3/plugins_index/index.html)\n",
    "\n",
    "## `importnb` \n",
    "\n",
    "Discovers notebooks as pytest python modules.  This idea builds off of pytest-ipynb, nbval, and ipynb-execute thingy."
   ]
  },
  {
   "cell_type": "code",
   "execution_count": 10,
   "metadata": {},
   "outputs": [
    {
     "data": {
      "text/markdown": [
       "## Benchmarking\n",
       "    \n",
       "    def sum2d(arr):\n",
       "        M, N = arr.shape\n",
       "        result = 0.0\n",
       "        for i in range(M):\n",
       "            for j in range(N):\n",
       "                result += arr[i,j]\n",
       "        return result\n",
       "\n",
       "    def test_py(benchmark):\n",
       "        from numpy import arange\n",
       "        benchmark(sum2d, arange(100).reshape(10,10))\n",
       "\n",
       "    try:\n",
       "        from numba import jit\n",
       "        from numpy import arange\n",
       "        def test_jit(benchmark):\n",
       "            benchmark(jit(sum2d), arange(100).reshape(10,10))\n",
       "    except: ..."
      ],
      "text/plain": [
       "## Benchmarking\n",
       "    \n",
       "    def sum2d(arr):\n",
       "        M, N = arr.shape\n",
       "        result = 0.0\n",
       "        for i in range(M):\n",
       "            for j in range(N):\n",
       "                result += arr[i,j]\n",
       "        return result\n",
       "\n",
       "    def test_py(benchmark):\n",
       "        from numpy import arange\n",
       "        benchmark(sum2d, arange(100).reshape(10,10))\n",
       "\n",
       "    try:\n",
       "        from numba import jit\n",
       "        from numpy import arange\n",
       "        def test_jit(benchmark):\n",
       "            benchmark(jit(sum2d), arange(100).reshape(10,10))\n",
       "    except: ..."
      ]
     },
     "metadata": {},
     "output_type": "display_data"
    }
   ],
   "source": [
    "## Benchmarking\n",
    "    \n",
    "    def sum2d(arr):\n",
    "        M, N = arr.shape\n",
    "        result = 0.0\n",
    "        for i in range(M):\n",
    "            for j in range(N):\n",
    "                result += arr[i,j]\n",
    "        return result\n",
    "\n",
    "    def test_py(benchmark):\n",
    "        from numpy import arange\n",
    "        benchmark(sum2d, arange(100).reshape(10,10))\n",
    "\n",
    "    try:\n",
    "        from numba import jit\n",
    "        from numpy import arange\n",
    "        def test_jit(benchmark):\n",
    "            benchmark(jit(sum2d), arange(100).reshape(10,10))\n",
    "    except: ..."
   ]
  },
  {
   "cell_type": "code",
   "execution_count": 11,
   "metadata": {},
   "outputs": [
    {
     "data": {
      "text/markdown": [
       "# How reusable are `importing` and `testing`\n",
       "\n",
       "\n",
       "    import pytest\n",
       "    if __name__ == '__main__':\n",
       "        pytest.main([\n",
       "            getattr(object, '__file__') for object in (importing, testing, reuse)\n",
       "        ] + '-p no:pytest-importnb'.split())"
      ],
      "text/plain": [
       "# How reusable are `importing` and `testing`\n",
       "\n",
       "\n",
       "    import pytest\n",
       "    if __name__ == '__main__':\n",
       "        pytest.main([\n",
       "            getattr(object, '__file__') for object in (importing, testing, reuse)\n",
       "        ] + '-p no:pytest-importnb'.split())"
      ]
     },
     "metadata": {},
     "output_type": "display_data"
    },
    {
     "name": "stdout",
     "output_type": "stream",
     "text": [
      "============================= test session starts ==============================\n",
      "platform darwin -- Python 3.6.3, pytest-3.5.0, py-1.5.3, pluggy-0.6.0\n",
      "benchmark: 3.1.1 (defaults: timer=time.perf_counter disable_gc=False min_rounds=5 min_time=0.000005 max_time=1.0 calibration_precision=10 warmup=False warmup_iterations=100000)\n",
      "rootdir: /Users/tonyfast/ahypothesis, inifile:\n",
      "plugins: cov-2.5.1, benchmark-3.1.1, hypothesis-3.56.5, nostalgiaforever-0.0.1\n",
      "collected 6 items\n",
      "\n",
      "importing.ipynb ..                                                       [ 33%]\n",
      "testing.ipynb ..                                                         [ 66%]\n",
      "reuse.ipynb ..                                                           [100%]\n",
      "\n",
      "\n",
      "------------------------------------------------------------------------------------------------ benchmark: 2 tests -----------------------------------------------------------------------------------------------\n",
      "Name (time in ns)             Min                     Max                   Mean                StdDev                 Median                   IQR            Outliers  OPS (Kops/s)            Rounds  Iterations\n",
      "-------------------------------------------------------------------------------------------------------------------------------------------------------------------------------------------------------------------\n",
      "test_jit                 545.9988 (1.0)        3,057.9995 (1.0)         739.8751 (1.0)        619.6426 (1.0)         567.5001 (1.0)         43.5011 (1.0)           1;2    1,351.5795 (1.0)          16           1\n",
      "test_py               24,602.0008 (45.06)    269,673.0007 (88.19)    27,884.0080 (37.69)    5,890.5454 (9.51)     26,081.0011 (45.96)    2,206.9980 (50.73)   1288;2534       35.8629 (0.03)      16907           1\n",
      "-------------------------------------------------------------------------------------------------------------------------------------------------------------------------------------------------------------------\n",
      "\n",
      "Legend:\n",
      "  Outliers: 1 Standard Deviation from Mean; 1.5 IQR (InterQuartile Range) from 1st Quartile and 3rd Quartile.\n",
      "  OPS: Operations Per Second, computed as 1 / Mean\n",
      "=============================== warnings summary ===============================\n",
      "None\n",
      "  Module already imported so cannot be rewritten: pytest_cov\n",
      "  Module already imported so cannot be rewritten: pytest_benchmark\n",
      "  Module already imported so cannot be rewritten: hypothesis\n",
      "  Module already imported so cannot be rewritten: nostalgiaforever\n",
      "\n",
      "-- Docs: http://doc.pytest.org/en/latest/warnings.html\n",
      "===================== 6 passed, 4 warnings in 0.81 seconds =====================\n"
     ]
    }
   ],
   "source": [
    "# How reusable are `importing` and `testing`\n",
    "\n",
    "\n",
    "    import pytest\n",
    "    if __name__ == '__main__':\n",
    "        pytest.main([\n",
    "            getattr(object, '__file__') for object in (importing, testing, reuse)\n",
    "        ] + '-p no:pytest-importnb'.split())"
   ]
  },
  {
   "cell_type": "code",
   "execution_count": null,
   "metadata": {},
   "outputs": [],
   "source": []
  },
  {
   "cell_type": "markdown",
   "metadata": {},
   "source": [
    "# Travis"
   ]
  },
  {
   "cell_type": "markdown",
   "metadata": {},
   "source": [
    "# Travis Dee-Pee-Ell Deployments\n",
    "\n",
    "\n",
    "# [Github](https://pip.pypa.io/en/stable/reference/pip_install/#vcs-support)\n",
    "\n",
    "## Pages "
   ]
  },
  {
   "cell_type": "markdown",
   "metadata": {},
   "source": [
    "## Pypi\n"
   ]
  },
  {
   "cell_type": "markdown",
   "metadata": {},
   "source": [
    "# Reuse the python code you write in notebooks"
   ]
  }
 ],
 "metadata": {
  "kernelspec": {
   "display_name": "p6",
   "language": "python",
   "name": "other-env"
  },
  "language_info": {
   "codemirror_mode": {
    "name": "ipython",
    "version": 3
   },
   "file_extension": ".py",
   "mimetype": "text/x-python",
   "name": "python",
   "nbconvert_exporter": "python",
   "pygments_lexer": "ipython3",
   "version": "3.6.3"
  }
 },
 "nbformat": 4,
 "nbformat_minor": 2
}
