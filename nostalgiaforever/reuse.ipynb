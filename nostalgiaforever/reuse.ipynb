{
 "cells": [
  {
   "cell_type": "markdown",
   "metadata": {},
   "source": [
    "# Reusing `importing` and `testing`\n",
    "\n",
    "`importing` and `testing` contain tests that can be imported and reused by other testing tools."
   ]
  },
  {
   "cell_type": "code",
   "execution_count": 32,
   "metadata": {},
   "outputs": [
    {
     "data": {
      "text/markdown": [
       "    from IPython import get_ipython\n",
       "    o = __name__ == '__main__'\n",
       "    with __import__('importnb').Notebook():\n",
       "        try: from .util import __ipython__\n",
       "        except:\n",
       "            if o: \n",
       "                %reload_ext pidgin\n",
       "                %pidgin markdown conventions\n",
       "            from util import __ipython__"
      ],
      "text/plain": [
       "    from IPython import get_ipython\n",
       "    o = __name__ == '__main__'\n",
       "    with __import__('importnb').Notebook():\n",
       "        try: from .util import __ipython__\n",
       "        except:\n",
       "            if o: \n",
       "                %reload_ext pidgin\n",
       "                %pidgin markdown conventions\n",
       "            from util import __ipython__"
      ]
     },
     "metadata": {},
     "output_type": "display_data"
    }
   ],
   "source": [
    "    from IPython import get_ipython\n",
    "    o = __name__ == '__main__'\n",
    "    with __import__('importnb').Notebook():\n",
    "        try: from .util import __ipython__\n",
    "        except:\n",
    "            if o: \n",
    "                %reload_ext pidgin\n",
    "                %pidgin markdown conventions\n",
    "            from util import __ipython__"
   ]
  },
  {
   "cell_type": "code",
   "execution_count": 13,
   "metadata": {},
   "outputs": [
    {
     "data": {
      "text/markdown": [
       "<hr/><hr/><hr/><hr/><hr/>\n",
       "\n",
       "# This notebook - `reuse.ipynb` - imports itself `testing`, `importing`, and `reuse`\n",
       "    \n",
       "    from importnb import Notebook, reload\n",
       "    with Notebook():\n",
       "        try:\n",
       "            import importing, testing, reuse\n",
       "        except:\n",
       "            from . import importing, testing, reuse\n",
       "        "
      ],
      "text/plain": [
       "<hr/><hr/><hr/><hr/><hr/>\n",
       "\n",
       "# This notebook - `reuse.ipynb` - imports itself `testing`, `importing`, and `reuse`\n",
       "    \n",
       "    from importnb import Notebook, reload\n",
       "    with Notebook():\n",
       "        try:\n",
       "            import importing, testing, reuse\n",
       "        except:\n",
       "            from . import importing, testing, reuse\n",
       "        "
      ]
     },
     "metadata": {},
     "output_type": "display_data"
    }
   ],
   "source": [
    "<hr/><hr/><hr/><hr/><hr/>\n",
    "\n",
    "# This notebook - `reuse.ipynb` - imports itself `testing`, `importing`, and `reuse`\n",
    "    \n",
    "    from importnb import Notebook, reload\n",
    "    with Notebook():\n",
    "        try:\n",
    "            import importing, testing, reuse\n",
    "        except:\n",
    "            from . import importing, testing, reuse\n",
    "        "
   ]
  },
  {
   "cell_type": "code",
   "execution_count": 16,
   "metadata": {},
   "outputs": [
    {
     "data": {
      "text/html": [
       "\n",
       "        <iframe\n",
       "            width=\"800\"\n",
       "            height=\"600\"\n",
       "            src=\"http://doc.pytest.org/\"\n",
       "            frameborder=\"0\"\n",
       "            allowfullscreen\n",
       "        ></iframe>\n",
       "        "
      ],
      "text/plain": [
       "<IPython.lib.display.IFrame at 0x10d3f2dd8>"
      ]
     },
     "metadata": {},
     "output_type": "display_data"
    }
   ],
   "source": [
    "    \n",
    "    http://doc.pytest.org/"
   ]
  },
  {
   "cell_type": "code",
   "execution_count": 17,
   "metadata": {},
   "outputs": [
    {
     "data": {
      "text/markdown": [
       "    import pytest\n",
       "    if __name__ == '__main__':\n",
       "        pytest.main([\n",
       "            getattr(object, '__file__') for object in (importing, testing)\n",
       "        ] + '-p no:pytest-importnb'.split())"
      ],
      "text/plain": [
       "    import pytest\n",
       "    if __name__ == '__main__':\n",
       "        pytest.main([\n",
       "            getattr(object, '__file__') for object in (importing, testing)\n",
       "        ] + '-p no:pytest-importnb'.split())"
      ]
     },
     "metadata": {},
     "output_type": "display_data"
    },
    {
     "name": "stdout",
     "output_type": "stream",
     "text": [
      "============================= test session starts ==============================\n",
      "platform darwin -- Python 3.6.3, pytest-3.5.0, py-1.5.3, pluggy-0.6.0\n",
      "benchmark: 3.1.1 (defaults: timer=time.perf_counter disable_gc=False min_rounds=5 min_time=0.000005 max_time=1.0 calibration_precision=10 warmup=False warmup_iterations=100000)\n",
      "rootdir: /Users/tonyfast/ahypothesis, inifile:\n",
      "plugins: cov-2.5.1, benchmark-3.1.1, hypothesis-3.56.5, nostalgiaforever-0.0.1\n",
      "collected 4 items\n",
      "\n",
      "importing.ipynb ..                                                       [ 50%]\n",
      "testing.ipynb ..                                                         [100%]\n",
      "\n",
      "=============================== warnings summary ===============================\n",
      "None\n",
      "  Module already imported so cannot be rewritten: pytest_cov\n",
      "  Module already imported so cannot be rewritten: pytest_benchmark\n",
      "  Module already imported so cannot be rewritten: hypothesis\n",
      "  Module already imported so cannot be rewritten: nostalgiaforever\n",
      "\n",
      "-- Docs: http://doc.pytest.org/en/latest/warnings.html\n",
      "===================== 4 passed, 4 warnings in 0.09 seconds =====================\n"
     ]
    }
   ],
   "source": [
    "    import pytest\n",
    "    if __name__ == '__main__':\n",
    "        pytest.main([\n",
    "            getattr(object, '__file__') for object in (importing, testing)\n",
    "        ] + '-p no:pytest-importnb'.split())"
   ]
  },
  {
   "cell_type": "code",
   "execution_count": 19,
   "metadata": {},
   "outputs": [
    {
     "data": {
      "text/markdown": [
       "# [Pytest plugins](https://docs.pytest.org/en/2.7.3/plugins_index/index.html)\n",
       "\n",
       "## `pytest-importnb` \n",
       "\n",
       "Discovers notebooks as pytest python modules.  This idea builds off of [pytest-ipynb](https://github.com/zonca/pytest-ipynb/tree/master/pytest_ipynb), [nbval](https://github.com/computationalmodelling/nbval), and [ipynb](https://github.com/ipython/ipynb/tree/master/ipynb)."
      ],
      "text/plain": [
       "# [Pytest plugins](https://docs.pytest.org/en/2.7.3/plugins_index/index.html)\n",
       "\n",
       "## `pytest-importnb` \n",
       "\n",
       "Discovers notebooks as pytest python modules.  This idea builds off of [pytest-ipynb](https://github.com/zonca/pytest-ipynb/tree/master/pytest_ipynb), [nbval](https://github.com/computationalmodelling/nbval), and [ipynb](https://github.com/ipython/ipynb/tree/master/ipynb)."
      ]
     },
     "metadata": {},
     "output_type": "display_data"
    }
   ],
   "source": [
    "# [Pytest plugins](https://docs.pytest.org/en/2.7.3/plugins_index/index.html)\n",
    "\n",
    "## `pytest-importnb` \n",
    "\n",
    "Discovers notebooks as pytest python modules.  This idea builds off of [pytest-ipynb](https://github.com/zonca/pytest-ipynb/tree/master/pytest_ipynb), [nbval](https://github.com/computationalmodelling/nbval), and [ipynb](https://github.com/ipython/ipynb/tree/master/ipynb)."
   ]
  },
  {
   "cell_type": "code",
   "execution_count": 20,
   "metadata": {},
   "outputs": [
    {
     "data": {
      "text/markdown": [
       "## `pytest-benchmark`\n",
       "    \n",
       "    def sum2d(arr):\n",
       "        M, N = arr.shape\n",
       "        result = 0.0\n",
       "        for i in range(M):\n",
       "            for j in range(N):\n",
       "                result += arr[i,j]\n",
       "        return result\n",
       "\n",
       "    def test_py(benchmark):\n",
       "        from numpy import arange\n",
       "        benchmark(sum2d, arange(100).reshape(10,10))\n",
       "\n",
       "    try:\n",
       "        from numba import jit\n",
       "        from numpy import arange\n",
       "        def test_jit(benchmark):\n",
       "            benchmark(jit(sum2d), arange(100).reshape(10,10))\n",
       "    except: ..."
      ],
      "text/plain": [
       "## `pytest-benchmark`\n",
       "    \n",
       "    def sum2d(arr):\n",
       "        M, N = arr.shape\n",
       "        result = 0.0\n",
       "        for i in range(M):\n",
       "            for j in range(N):\n",
       "                result += arr[i,j]\n",
       "        return result\n",
       "\n",
       "    def test_py(benchmark):\n",
       "        from numpy import arange\n",
       "        benchmark(sum2d, arange(100).reshape(10,10))\n",
       "\n",
       "    try:\n",
       "        from numba import jit\n",
       "        from numpy import arange\n",
       "        def test_jit(benchmark):\n",
       "            benchmark(jit(sum2d), arange(100).reshape(10,10))\n",
       "    except: ..."
      ]
     },
     "metadata": {},
     "output_type": "display_data"
    }
   ],
   "source": [
    "## `pytest-benchmark`\n",
    "    \n",
    "    def sum2d(arr):\n",
    "        M, N = arr.shape\n",
    "        result = 0.0\n",
    "        for i in range(M):\n",
    "            for j in range(N):\n",
    "                result += arr[i,j]\n",
    "        return result\n",
    "\n",
    "    def test_py(benchmark):\n",
    "        from numpy import arange\n",
    "        benchmark(sum2d, arange(100).reshape(10,10))\n",
    "\n",
    "    try:\n",
    "        from numba import jit\n",
    "        from numpy import arange\n",
    "        def test_jit(benchmark):\n",
    "            benchmark(jit(sum2d), arange(100).reshape(10,10))\n",
    "    except: ..."
   ]
  },
  {
   "cell_type": "code",
   "execution_count": 21,
   "metadata": {},
   "outputs": [
    {
     "data": {
      "text/markdown": [
       "    import pytest\n",
       "    if __name__ == '__main__':\n",
       "        pytest.main([\n",
       "            getattr(object, '__file__') for object in (importing, testing, reuse)\n",
       "        ] + '-p no:pytest-importnb'.split())"
      ],
      "text/plain": [
       "    import pytest\n",
       "    if __name__ == '__main__':\n",
       "        pytest.main([\n",
       "            getattr(object, '__file__') for object in (importing, testing, reuse)\n",
       "        ] + '-p no:pytest-importnb'.split())"
      ]
     },
     "metadata": {},
     "output_type": "display_data"
    },
    {
     "name": "stdout",
     "output_type": "stream",
     "text": [
      "============================= test session starts ==============================\n",
      "platform darwin -- Python 3.6.3, pytest-3.5.0, py-1.5.3, pluggy-0.6.0\n",
      "benchmark: 3.1.1 (defaults: timer=time.perf_counter disable_gc=False min_rounds=5 min_time=0.000005 max_time=1.0 calibration_precision=10 warmup=False warmup_iterations=100000)\n",
      "rootdir: /Users/tonyfast/ahypothesis, inifile:\n",
      "plugins: cov-2.5.1, benchmark-3.1.1, hypothesis-3.56.5, nostalgiaforever-0.0.1\n",
      "collected 6 items\n",
      "\n",
      "importing.ipynb ..                                                       [ 33%]\n",
      "testing.ipynb ..                                                         [ 66%]\n",
      "reuse.ipynb ..                                                           [100%]\n",
      "\n",
      "\n",
      "------------------------------------------------------------------------------------------------ benchmark: 2 tests -----------------------------------------------------------------------------------------------\n",
      "Name (time in ns)             Min                     Max                   Mean                StdDev                 Median                   IQR            Outliers  OPS (Kops/s)            Rounds  Iterations\n",
      "-------------------------------------------------------------------------------------------------------------------------------------------------------------------------------------------------------------------\n",
      "test_jit                 414.0002 (1.0)        3,121.0002 (1.0)         628.0668 (1.0)        692.1664 (1.0)         423.0005 (1.0)         36.2506 (1.0)           1;3    1,592.1872 (1.0)          15           1\n",
      "test_py               25,228.9992 (60.94)    207,039.0001 (66.34)    29,453.6792 (46.90)    9,727.1959 (14.05)    26,694.9992 (63.11)    2,181.5008 (60.18)    870;1862       33.9516 (0.02)      12209           1\n",
      "-------------------------------------------------------------------------------------------------------------------------------------------------------------------------------------------------------------------\n",
      "\n",
      "Legend:\n",
      "  Outliers: 1 Standard Deviation from Mean; 1.5 IQR (InterQuartile Range) from 1st Quartile and 3rd Quartile.\n",
      "  OPS: Operations Per Second, computed as 1 / Mean\n",
      "=============================== warnings summary ===============================\n",
      "None\n",
      "  Module already imported so cannot be rewritten: pytest_cov\n",
      "  Module already imported so cannot be rewritten: pytest_benchmark\n",
      "  Module already imported so cannot be rewritten: hypothesis\n",
      "  Module already imported so cannot be rewritten: nostalgiaforever\n",
      "\n",
      "-- Docs: http://doc.pytest.org/en/latest/warnings.html\n",
      "===================== 6 passed, 4 warnings in 0.69 seconds =====================\n"
     ]
    }
   ],
   "source": [
    "    import pytest\n",
    "    if __name__ == '__main__':\n",
    "        pytest.main([\n",
    "            getattr(object, '__file__') for object in (importing, testing, reuse)\n",
    "        ] + '-p no:pytest-importnb'.split())"
   ]
  },
  {
   "cell_type": "code",
   "execution_count": 30,
   "metadata": {},
   "outputs": [
    {
     "data": {
      "text/markdown": [
       "# `hypothesis` has the best API in all of Python"
      ],
      "text/plain": [
       "# `hypothesis` has the best API in all of Python"
      ]
     },
     "metadata": {},
     "output_type": "display_data"
    }
   ],
   "source": [
    "# `hypothesis` has the best API in all of Python"
   ]
  },
  {
   "cell_type": "code",
   "execution_count": 29,
   "metadata": {},
   "outputs": [
    {
     "data": {
      "text/markdown": [
       "    from hypothesis import given, assume, infer, HealthCheck, settings #@given(a=infer)"
      ],
      "text/plain": [
       "    from hypothesis import given, assume, infer, HealthCheck, settings #@given(a=infer)"
      ]
     },
     "metadata": {},
     "output_type": "display_data"
    }
   ],
   "source": [
    "    from hypothesis import given, assume, infer, HealthCheck, settings #@given(a=infer)"
   ]
  },
  {
   "cell_type": "code",
   "execution_count": 22,
   "metadata": {},
   "outputs": [
    {
     "data": {
      "text/markdown": [
       "    http://tox.readthedocs.io/en/latest/example/pytest.html"
      ],
      "text/plain": [
       "    http://tox.readthedocs.io/en/latest/example/pytest.html"
      ]
     },
     "metadata": {},
     "output_type": "display_data"
    },
    {
     "data": {
      "text/html": [
       "\n",
       "        <iframe\n",
       "            width=\"800\"\n",
       "            height=\"600\"\n",
       "            src=\"http://tox.readthedocs.io/en/latest/example/pytest.html\"\n",
       "            frameborder=\"0\"\n",
       "            allowfullscreen\n",
       "        ></iframe>\n",
       "        "
      ],
      "text/plain": [
       "<IPython.lib.display.IFrame at 0x10d482f60>"
      ]
     },
     "metadata": {},
     "output_type": "display_data"
    }
   ],
   "source": [
    "    http://tox.readthedocs.io/en/latest/example/pytest.html"
   ]
  },
  {
   "cell_type": "code",
   "execution_count": 27,
   "metadata": {},
   "outputs": [
    {
     "data": {
      "text/markdown": [
       "# [Travis](https://travis-ci.org/deathbeds/nostalgiaforever)\n",
       "\n",
       "\n",
       "https://github.com/travis-ci/dpl\n",
       "    \n",
       "`travis setup pypi`\n",
       "`travis setup pages`\n",
       "* The readme creates our documentation\n"
      ],
      "text/plain": [
       "# [Travis](https://travis-ci.org/deathbeds/nostalgiaforever)\n",
       "\n",
       "\n",
       "https://github.com/travis-ci/dpl\n",
       "    \n",
       "`travis setup pypi`\n",
       "`travis setup pages`\n",
       "* The readme creates our documentation"
      ]
     },
     "metadata": {},
     "output_type": "display_data"
    }
   ],
   "source": [
    "# [Travis](https://travis-ci.org/deathbeds/nostalgiaforever)\n",
    "\n",
    "\n",
    "https://github.com/travis-ci/dpl\n",
    "    \n",
    "`travis setup pypi`\n",
    "`travis setup pages`\n",
    "* The readme creates our documentation\n",
    "\n"
   ]
  },
  {
   "cell_type": "code",
   "execution_count": 31,
   "metadata": {},
   "outputs": [
    {
     "data": {
      "text/markdown": [
       "# Summary \n",
       "\n",
       "* tests can be designed incrementally across notebooks and aggregated."
      ],
      "text/plain": [
       "# Summary \n",
       "\n",
       "* tests can be designed incrementally across notebooks and aggregated."
      ]
     },
     "metadata": {},
     "output_type": "display_data"
    }
   ],
   "source": [
    "# Summary \n",
    "\n",
    "* tests can be designed incrementally across notebooks and aggregated."
   ]
  },
  {
   "cell_type": "markdown",
   "metadata": {},
   "source": [
    "# Travis Dee-Pee-Ell Deployments\n",
    "\n",
    "\n",
    "# [Github](https://pip.pypa.io/en/stable/reference/pip_install/#vcs-support)\n",
    "\n",
    "## Pages "
   ]
  },
  {
   "cell_type": "markdown",
   "metadata": {},
   "source": [
    "## Pypi\n"
   ]
  },
  {
   "cell_type": "markdown",
   "metadata": {},
   "source": [
    "# Reuse the python code you write in notebooks"
   ]
  }
 ],
 "metadata": {
  "kernelspec": {
   "display_name": "p6",
   "language": "python",
   "name": "other-env"
  },
  "language_info": {
   "codemirror_mode": {
    "name": "ipython",
    "version": 3
   },
   "file_extension": ".py",
   "mimetype": "text/x-python",
   "name": "python",
   "nbconvert_exporter": "python",
   "pygments_lexer": "ipython3",
   "version": "3.6.3"
  }
 },
 "nbformat": 4,
 "nbformat_minor": 2
}
