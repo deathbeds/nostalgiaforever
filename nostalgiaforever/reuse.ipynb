{
 "cells": [
  {
   "cell_type": "markdown",
   "metadata": {},
   "source": [
    "# Reusing `importing` and `testing`\n",
    "\n",
    "`importing` and `testing` contain tests that can be imported and reused by other testing tools."
   ]
  },
  {
   "cell_type": "code",
   "execution_count": 1,
   "metadata": {},
   "outputs": [],
   "source": [
    "    \n",
    "    from IPython import get_ipython\n",
    "    o = __name__ == '__main__'\n",
    "    with __import__('importnb').Notebook():\n",
    "        try: from .util import __ipython__\n",
    "        except:\n",
    "            if o: \n",
    "                %reload_ext pidgin\n",
    "                %pidgin markdown conventions\n",
    "            from util import __ipython__"
   ]
  },
  {
   "cell_type": "code",
   "execution_count": 2,
   "metadata": {},
   "outputs": [
    {
     "data": {
      "text/markdown": [
       "<hr/><hr/><hr/><hr/><hr/>\n",
       "\n",
       "# This notebook - `reuse.ipynb` - imports `testing`, `importing`, and `reuse`\n",
       "    \n",
       "    from importnb import Notebook, reload\n",
       "    with Notebook():\n",
       "        try:\n",
       "            import importing, testing, reuse\n",
       "        except:\n",
       "            from . import importing, testing, reuse\n",
       "        "
      ],
      "text/plain": [
       "<hr/><hr/><hr/><hr/><hr/>\n",
       "\n",
       "# This notebook - `reuse.ipynb` - imports `testing`, `importing`, and `reuse`\n",
       "    \n",
       "    from importnb import Notebook, reload\n",
       "    with Notebook():\n",
       "        try:\n",
       "            import importing, testing, reuse\n",
       "        except:\n",
       "            from . import importing, testing, reuse\n",
       "        "
      ]
     },
     "metadata": {},
     "output_type": "display_data"
    }
   ],
   "source": [
    "<hr/><hr/><hr/><hr/><hr/>\n",
    "\n",
    "# This notebook - `reuse.ipynb` - imports `testing`, `importing`, and `reuse`\n",
    "    \n",
    "    from importnb import Notebook, reload\n",
    "    with Notebook():\n",
    "        try:\n",
    "            import importing, testing, reuse\n",
    "        except:\n",
    "            from . import importing, testing, reuse\n",
    "        "
   ]
  },
  {
   "cell_type": "code",
   "execution_count": 3,
   "metadata": {},
   "outputs": [
    {
     "data": {
      "text/markdown": [
       "    import pytest\n",
       "    if __name__ == '__main__':\n",
       "        pytest.main([\n",
       "            getattr(object, '__file__') for object in (importing, testing)\n",
       "        ] + '-p no:pytest-importnb'.split())"
      ],
      "text/plain": [
       "    import pytest\n",
       "    if __name__ == '__main__':\n",
       "        pytest.main([\n",
       "            getattr(object, '__file__') for object in (importing, testing)\n",
       "        ] + '-p no:pytest-importnb'.split())"
      ]
     },
     "metadata": {},
     "output_type": "display_data"
    },
    {
     "name": "stdout",
     "output_type": "stream",
     "text": [
      "============================= test session starts ==============================\n",
      "platform darwin -- Python 3.6.3, pytest-3.5.0, py-1.5.3, pluggy-0.6.0\n",
      "benchmark: 3.1.1 (defaults: timer=time.perf_counter disable_gc=False min_rounds=5 min_time=0.000005 max_time=1.0 calibration_precision=10 warmup=False warmup_iterations=100000)\n",
      "rootdir: /Users/tonyfast/ahypothesis, inifile:\n",
      "plugins: cov-2.5.1, benchmark-3.1.1, hypothesis-3.56.5, nostalgiaforever-0.0.2\n",
      "collected 4 items\n",
      "\n",
      "importing.ipynb ..                                                       [ 50%]\n",
      "testing.ipynb ..                                                         [100%]\n",
      "\n",
      "=============================== warnings summary ===============================\n",
      "None\n",
      "  Module already imported so cannot be rewritten: hypothesis\n",
      "\n",
      "-- Docs: http://doc.pytest.org/en/latest/warnings.html\n",
      "===================== 4 passed, 1 warnings in 0.06 seconds =====================\n"
     ]
    }
   ],
   "source": [
    "    import pytest\n",
    "    if __name__ == '__main__':\n",
    "        pytest.main([\n",
    "            getattr(object, '__file__') for object in (importing, testing)\n",
    "        ] + '-p no:pytest-importnb'.split())"
   ]
  },
  {
   "cell_type": "code",
   "execution_count": 4,
   "metadata": {},
   "outputs": [
    {
     "data": {
      "text/html": [
       "\n",
       "        <iframe\n",
       "            width=\"800\"\n",
       "            height=\"600\"\n",
       "            src=\"http://doc.pytest.org/\"\n",
       "            frameborder=\"0\"\n",
       "            allowfullscreen\n",
       "        ></iframe>\n",
       "        "
      ],
      "text/plain": [
       "<IPython.lib.display.IFrame at 0x10a1c2908>"
      ]
     },
     "metadata": {},
     "output_type": "display_data"
    }
   ],
   "source": [
    "    \n",
    "    http://doc.pytest.org/"
   ]
  },
  {
   "cell_type": "code",
   "execution_count": 5,
   "metadata": {},
   "outputs": [
    {
     "data": {
      "text/markdown": [
       "# [Pytest plugins](https://docs.pytest.org/en/2.7.3/plugins_index/index.html)\n",
       "\n",
       "## `pytest-importnb` \n",
       "\n",
       "Discovers notebooks as pytest python modules.  This idea builds off of [pytest-ipynb](https://github.com/zonca/pytest-ipynb/tree/master/pytest_ipynb), [nbval](https://github.com/computationalmodelling/nbval), and [ipynb](https://github.com/ipython/ipynb/tree/master/ipynb)."
      ],
      "text/plain": [
       "# [Pytest plugins](https://docs.pytest.org/en/2.7.3/plugins_index/index.html)\n",
       "\n",
       "## `pytest-importnb` \n",
       "\n",
       "Discovers notebooks as pytest python modules.  This idea builds off of [pytest-ipynb](https://github.com/zonca/pytest-ipynb/tree/master/pytest_ipynb), [nbval](https://github.com/computationalmodelling/nbval), and [ipynb](https://github.com/ipython/ipynb/tree/master/ipynb)."
      ]
     },
     "metadata": {},
     "output_type": "display_data"
    }
   ],
   "source": [
    "# [Pytest plugins](https://docs.pytest.org/en/2.7.3/plugins_index/index.html)\n",
    "\n",
    "## `pytest-importnb` \n",
    "\n",
    "Discovers notebooks as pytest python modules.  This idea builds off of [pytest-ipynb](https://github.com/zonca/pytest-ipynb/tree/master/pytest_ipynb), [nbval](https://github.com/computationalmodelling/nbval), and [ipynb](https://github.com/ipython/ipynb/tree/master/ipynb)."
   ]
  },
  {
   "cell_type": "code",
   "execution_count": 6,
   "metadata": {},
   "outputs": [
    {
     "data": {
      "text/markdown": [
       "## `pytest-benchmark`\n",
       "\n",
       "---\n",
       "    \n",
       "### Compare a `numpy` function and a `numba`\n",
       "\n",
       "    def sum2d(arr):\n",
       "        M, N = arr.shape\n",
       "        result = 0.0\n",
       "        for i in range(M):\n",
       "            for j in range(N):\n",
       "                result += arr[i,j]\n",
       "        return result\n",
       "    \n",
       "---    \n",
       "\n",
       "    def test_py(benchmark):\n",
       "        from numpy import arange\n",
       "        benchmark(sum2d, arange(100).reshape(10,10))\n",
       "\n",
       "    try:\n",
       "        from numba import jit\n",
       "        from numpy import arange\n",
       "        def test_jit(benchmark):\n",
       "            benchmark(jit(sum2d), arange(100).reshape(10,10))\n",
       "    except: ..."
      ],
      "text/plain": [
       "## `pytest-benchmark`\n",
       "\n",
       "---\n",
       "    \n",
       "### Compare a `numpy` function and a `numba`\n",
       "\n",
       "    def sum2d(arr):\n",
       "        M, N = arr.shape\n",
       "        result = 0.0\n",
       "        for i in range(M):\n",
       "            for j in range(N):\n",
       "                result += arr[i,j]\n",
       "        return result\n",
       "    \n",
       "---    \n",
       "\n",
       "    def test_py(benchmark):\n",
       "        from numpy import arange\n",
       "        benchmark(sum2d, arange(100).reshape(10,10))\n",
       "\n",
       "    try:\n",
       "        from numba import jit\n",
       "        from numpy import arange\n",
       "        def test_jit(benchmark):\n",
       "            benchmark(jit(sum2d), arange(100).reshape(10,10))\n",
       "    except: ..."
      ]
     },
     "metadata": {},
     "output_type": "display_data"
    }
   ],
   "source": [
    "## `pytest-benchmark`\n",
    "\n",
    "---\n",
    "    \n",
    "### Compare a `numpy` function and a `numba`\n",
    "\n",
    "    def sum2d(arr):\n",
    "        M, N = arr.shape\n",
    "        result = 0.0\n",
    "        for i in range(M):\n",
    "            for j in range(N):\n",
    "                result += arr[i,j]\n",
    "        return result\n",
    "    \n",
    "---    \n",
    "\n",
    "    def test_py(benchmark):\n",
    "        from numpy import arange\n",
    "        benchmark(sum2d, arange(100).reshape(10,10))\n",
    "\n",
    "    try:\n",
    "        from numba import jit\n",
    "        from numpy import arange\n",
    "        def test_jit(benchmark):\n",
    "            benchmark(jit(sum2d), arange(100).reshape(10,10))\n",
    "    except: ..."
   ]
  },
  {
   "cell_type": "code",
   "execution_count": 7,
   "metadata": {},
   "outputs": [
    {
     "data": {
      "text/markdown": [
       "# Run the benchmark tests\n",
       "    \n",
       "    import pytest\n",
       "    if __name__ == '__main__':\n",
       "        pytest.main([\n",
       "            getattr(object, '__file__') for object in (importing, testing, reuse)\n",
       "        ] + '-p no:pytest-importnb'.split())"
      ],
      "text/plain": [
       "# Run the benchmark tests\n",
       "    \n",
       "    import pytest\n",
       "    if __name__ == '__main__':\n",
       "        pytest.main([\n",
       "            getattr(object, '__file__') for object in (importing, testing, reuse)\n",
       "        ] + '-p no:pytest-importnb'.split())"
      ]
     },
     "metadata": {},
     "output_type": "display_data"
    },
    {
     "name": "stdout",
     "output_type": "stream",
     "text": [
      "============================= test session starts ==============================\n",
      "platform darwin -- Python 3.6.3, pytest-3.5.0, py-1.5.3, pluggy-0.6.0\n",
      "benchmark: 3.1.1 (defaults: timer=time.perf_counter disable_gc=False min_rounds=5 min_time=0.000005 max_time=1.0 calibration_precision=10 warmup=False warmup_iterations=100000)\n",
      "rootdir: /Users/tonyfast/ahypothesis, inifile:\n",
      "plugins: cov-2.5.1, benchmark-3.1.1, hypothesis-3.56.5, nostalgiaforever-0.0.2\n",
      "collected 7 items\n",
      "\n",
      "importing.ipynb ..                                                       [ 28%]\n",
      "testing.ipynb ..                                                         [ 57%]\n",
      "reuse.ipynb ...                                                          [100%]\n",
      "\n",
      "\n",
      "------------------------------------------------------------------------------------------------ benchmark: 2 tests -----------------------------------------------------------------------------------------------\n",
      "Name (time in ns)             Min                     Max                   Mean                StdDev                 Median                   IQR            Outliers  OPS (Kops/s)            Rounds  Iterations\n",
      "-------------------------------------------------------------------------------------------------------------------------------------------------------------------------------------------------------------------\n",
      "test_jit                 403.0007 (1.0)        2,412.9986 (1.0)         674.8746 (1.0)        703.2401 (1.0)         418.0001 (1.0)         59.5010 (1.0)           1;1    1,481.7567 (1.0)           8           1\n",
      "test_py               24,781.0021 (61.49)    163,378.9980 (67.71)    28,165.2838 (41.73)    5,013.0852 (7.13)     27,169.0005 (65.00)    1,802.7504 (30.30)     691;908       35.5047 (0.02)      10831           1\n",
      "-------------------------------------------------------------------------------------------------------------------------------------------------------------------------------------------------------------------\n",
      "\n",
      "Legend:\n",
      "  Outliers: 1 Standard Deviation from Mean; 1.5 IQR (InterQuartile Range) from 1st Quartile and 3rd Quartile.\n",
      "  OPS: Operations Per Second, computed as 1 / Mean\n",
      "=============================== warnings summary ===============================\n",
      "None\n",
      "  Module already imported so cannot be rewritten: pytest_cov\n",
      "  Module already imported so cannot be rewritten: pytest_benchmark\n",
      "  Module already imported so cannot be rewritten: hypothesis\n",
      "  Module already imported so cannot be rewritten: nostalgiaforever\n",
      "\n",
      "-- Docs: http://doc.pytest.org/en/latest/warnings.html\n",
      "===================== 7 passed, 4 warnings in 2.12 seconds =====================\n"
     ]
    }
   ],
   "source": [
    "# Run the benchmark tests\n",
    "    \n",
    "    import pytest\n",
    "    if __name__ == '__main__':\n",
    "        pytest.main([\n",
    "            getattr(object, '__file__') for object in (importing, testing, reuse)\n",
    "        ] + '-p no:pytest-importnb'.split())"
   ]
  },
  {
   "cell_type": "code",
   "execution_count": 8,
   "metadata": {},
   "outputs": [
    {
     "data": {
      "text/markdown": [
       "# `hypothesis` has the best API in all of Python\n",
       "\n",
       "    from hypothesis import given, assume, infer, HealthCheck, settings #\n",
       "\n",
       "\n",
       "    \n",
       "    @given(a=infer)\n",
       "    @settings(suppress_health_check=[HealthCheck.return_value])\n",
       "    def test_all_the_strings(a:str):\n",
       "        \"\"\"hypothesis will infer a strategy to test many strings!\n",
       "        \n",
       "        Use type annotations and 🏆🏆🏆🏆🏆!\n",
       "        \"\"\"\n",
       "#         print(a)\n",
       "#         assert a\n",
       "        return a\n",
       "\n",
       "    if __name__ == '__main__':\n",
       "        test_all_the_strings()"
      ],
      "text/plain": [
       "# `hypothesis` has the best API in all of Python\n",
       "\n",
       "    from hypothesis import given, assume, infer, HealthCheck, settings #\n",
       "\n",
       "\n",
       "    \n",
       "    @given(a=infer)\n",
       "    @settings(suppress_health_check=[HealthCheck.return_value])\n",
       "    def test_all_the_strings(a:str):\n",
       "        \"\"\"hypothesis will infer a strategy to test many strings!\n",
       "        \n",
       "        Use type annotations and 🏆🏆🏆🏆🏆!\n",
       "        \"\"\"\n",
       "#         print(a)\n",
       "#         assert a\n",
       "        return a\n",
       "\n",
       "    if __name__ == '__main__':\n",
       "        test_all_the_strings()"
      ]
     },
     "metadata": {},
     "output_type": "display_data"
    }
   ],
   "source": [
    "# `hypothesis` has the best API in all of Python\n",
    "\n",
    "    from hypothesis import given, assume, infer, HealthCheck, settings #\n",
    "\n",
    "\n",
    "    \n",
    "    @given(a=infer)\n",
    "    @settings(suppress_health_check=[HealthCheck.return_value])\n",
    "    def test_all_the_strings(a:str):\n",
    "        \"\"\"hypothesis will infer a strategy to test many strings!\n",
    "        \n",
    "        Use type annotations and 🏆🏆🏆🏆🏆!\n",
    "        \"\"\"\n",
    "#         print(a)\n",
    "#         assert a\n",
    "        return a\n",
    "\n",
    "    if __name__ == '__main__':\n",
    "        test_all_the_strings()"
   ]
  },
  {
   "cell_type": "code",
   "execution_count": 9,
   "metadata": {},
   "outputs": [
    {
     "data": {
      "text/markdown": [
       "# Continuous Integration with [Travis](https://travis-ci.org/deathbeds/nostalgiaforever)\n",
       "\n",
       "[![Build Status](https://travis-ci.org/deathbeds/nostalgiaforever.svg?branch=master)](https://travis-ci.org/deathbeds/nostalgiaforever)\n",
       "\n",
       "\n",
       "`nostalgiaforever` using [Travis deployments](https://github.com/travis-ci/dpl) to simplify automated tasks\n",
       "\n",
       "    \n",
       "* `travis setup pypi`\n",
       "\n",
       "[![PyPI version](https://badge.fury.io/py/nostalgiaforever.svg)](https://badge.fury.io/py/nostalgiaforever)\n",
       "    \n",
       "* [`travis setup pages`](https://deathbeds.github.io/nostalgiaforever/) (_This doesn't work right_)\n",
       "\n",
       "\n",
       "    \n",
       "    "
      ],
      "text/plain": [
       "# Continuous Integration with [Travis](https://travis-ci.org/deathbeds/nostalgiaforever)\n",
       "\n",
       "[![Build Status](https://travis-ci.org/deathbeds/nostalgiaforever.svg?branch=master)](https://travis-ci.org/deathbeds/nostalgiaforever)\n",
       "\n",
       "\n",
       "`nostalgiaforever` using [Travis deployments](https://github.com/travis-ci/dpl) to simplify automated tasks\n",
       "\n",
       "    \n",
       "* `travis setup pypi`\n",
       "\n",
       "[![PyPI version](https://badge.fury.io/py/nostalgiaforever.svg)](https://badge.fury.io/py/nostalgiaforever)\n",
       "    \n",
       "* [`travis setup pages`](https://deathbeds.github.io/nostalgiaforever/) (_This doesn't work right_)\n",
       "\n",
       "\n",
       "    \n",
       "    "
      ]
     },
     "metadata": {},
     "output_type": "display_data"
    }
   ],
   "source": [
    "# Continuous Integration with [Travis](https://travis-ci.org/deathbeds/nostalgiaforever)\n",
    "\n",
    "[![Build Status](https://travis-ci.org/deathbeds/nostalgiaforever.svg?branch=master)](https://travis-ci.org/deathbeds/nostalgiaforever)\n",
    "\n",
    "\n",
    "`nostalgiaforever` using [Travis deployments](https://github.com/travis-ci/dpl) to simplify automated tasks\n",
    "\n",
    "    \n",
    "* `travis setup pypi`\n",
    "\n",
    "[![PyPI version](https://badge.fury.io/py/nostalgiaforever.svg)](https://badge.fury.io/py/nostalgiaforever)\n",
    "    \n",
    "* [`travis setup pages`](https://deathbeds.github.io/nostalgiaforever/) (_This doesn't work right_)\n",
    "\n",
    "\n",
    "    \n",
    "    "
   ]
  },
  {
   "cell_type": "code",
   "execution_count": 12,
   "metadata": {},
   "outputs": [
    {
     "data": {
      "text/markdown": [
       "<hr/><hr/><hr/><hr/><hr/>\n",
       "\n",
       "\n",
       "# Summary [clear all output then \"Run All\" -- or it didn't happen]\n",
       "\n",
       "* If a notebooks restart and run all then they may provide a foundation to build better software.\n",
       "* tests can be designed incrementally across notebooks and aggregated.\n",
       "* Others can and should use your shit.\n",
       "\n",
       "* # Reuse ~~rewrite~~ the code you write in notebooks"
      ],
      "text/plain": [
       "<hr/><hr/><hr/><hr/><hr/>\n",
       "\n",
       "\n",
       "# Summary [clear all output then \"Run All\" -- or it didn't happen]\n",
       "\n",
       "* If a notebooks restart and run all then they may provide a foundation to build better software.\n",
       "* tests can be designed incrementally across notebooks and aggregated.\n",
       "* Others can and should use your shit.\n",
       "\n",
       "* # Reuse ~~rewrite~~ the code you write in notebooks"
      ]
     },
     "metadata": {},
     "output_type": "display_data"
    }
   ],
   "source": [
    "<hr/><hr/><hr/><hr/><hr/>\n",
    "\n",
    "\n",
    "# Summary [clear all output then \"Run All\" -- or it didn't happen]\n",
    "\n",
    "* If a notebooks restart and run all then they may provide a foundation to build better software.\n",
    "* tests can be designed incrementally across notebooks and aggregated.\n",
    "* Others can and should use your shit.\n",
    "\n",
    "* # Reuse ~~rewrite~~ the code you write in notebooks"
   ]
  },
  {
   "cell_type": "code",
   "execution_count": null,
   "metadata": {},
   "outputs": [],
   "source": []
  }
 ],
 "metadata": {
  "kernelspec": {
   "display_name": "p6",
   "language": "python",
   "name": "other-env"
  },
  "language_info": {
   "codemirror_mode": {
    "name": "ipython",
    "version": 3
   },
   "file_extension": ".py",
   "mimetype": "text/x-python",
   "name": "python",
   "nbconvert_exporter": "python",
   "pygments_lexer": "ipython3",
   "version": "3.6.3"
  }
 },
 "nbformat": 4,
 "nbformat_minor": 2
}
