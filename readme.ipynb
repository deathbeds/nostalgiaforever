{
 "cells": [
  {
   "cell_type": "markdown",
   "metadata": {},
   "source": [
    "# A Notebook is a Hypothesis\n",
    "\n",
    "Modern scientists are transitioning to a generation where notebooks are common currency. Consider how testing and documentation are crucial aspect of reusable open source software. Those best practices evolved to support the communities developing that software. Generations of open source established idioms and style guides which enable software collaboration at global scale. Now, access to reusable software is blending with modern science, where both disciplines share similar global ambitions to solve increasing complex, multi-objective problems.\n",
    "\n",
    "Consequently, notebooks have evolved past being a medium for personal insight to become assets for community innovation. They represent extra-personal objects for scientists who have evaluated procedural \"units of thought\" as computational narratives. In a way, a notebook represents a modern form of hypothesis, and scientists must get comfortable sharing them rapidly. Unfortunately, new authors lack conventions for sharing notebooks as hypotheses within a scientific community. This talk presents tactics from literate programming to create readable, reusable, and reproducible notebooks. These notebook authoring practices promote improved documentation and unit testing."
   ]
  },
  {
   "cell_type": "markdown",
   "metadata": {},
   "source": [
    "## Key Takeaways\n",
    "\n",
    "* Data and compute is modern research equipment.\n",
    "* Style of creating reproducible and reusable interactive compute sessions.\n",
    "* Best practices for composing testable computational essays.\n",
    "* Existing testing frameworks can be used with notebooks.\n",
    "* Notebooks can be used for testing and software."
   ]
  },
  {
   "cell_type": "code",
   "execution_count": 1,
   "metadata": {},
   "outputs": [],
   "source": [
    "    from IPython import get_ipython"
   ]
  },
  {
   "cell_type": "markdown",
   "metadata": {},
   "source": [
    "# A Notebook is a Hypothesis\n",
    "\n",
    "|Section|Topic|Idiom|\n",
    "|---|---|---|\n",
    "| 1 | Informal Testing | [If a notebook is hypothesis then it tests something.](nostalgiaforever/informal.ipynb) |\n",
    "| 2 | Formal Testing   | [If a notebook is a hypothesis then it can be tested.](nostalgiaforever/formal.ipynb) |\n",
    "| 3 | Continuous Testing |  [If a notebook is a hypothesis then it will be tested.](nostalgiaforever/continuous.ipynb) |\n"
   ]
  },
  {
   "cell_type": "markdown",
   "metadata": {},
   "source": [
    "## Before the talk\n",
    "\n",
    "* Restart your machine\n",
    "* Install the requirements\n",
    "* Make sure a terminal is open a Python 3.6 environment @ ./nostalgiaforever/\n",
    "* Start the watcher\n",
    "\n",
    "        if True:\n",
    "            !source activate p6 && pushd nostalgiaforever && watchmedo tricks tricks.yml\n",
    "            \n",
    "* Prepare the fonts."
   ]
  },
  {
   "cell_type": "code",
   "execution_count": 3,
   "metadata": {},
   "outputs": [
    {
     "name": "stdout",
     "output_type": "stream",
     "text": [
      "Overwriting nostalgiaforever/tricks.yml\n"
     ]
    }
   ],
   "source": [
    "    %%file nostalgiaforever/tricks.yml\n",
    "    tricks:\n",
    "    - importnb.utils.watch.ModuleTrick:\n",
    "        patterns: ['*.ipynb']\n",
    "        shell_command: >\n",
    "            ipython --profile pidgin -m ${watch_dest_path}  && echo '---'"
   ]
  },
  {
   "cell_type": "code",
   "execution_count": 43,
   "metadata": {},
   "outputs": [],
   "source": [
    "    from nbconvert.exporters.markdown import MarkdownExporter\n",
    "    from nbconvert.preprocessors import Preprocessor\n",
    "    class ReplaceLinks(Preprocessor):\n",
    "        def preprocess_cell(self, cell, resources=None, index=0):\n",
    "            if cell['cell_type'] == 'markdown':\n",
    "                if isinstance(cell['source'], list): cell['source'] = ''.join(cell['source'])\n",
    "                cell['source'] = cell['source'].replace('.ipynb', '.md')\n",
    "            return cell, resources"
   ]
  },
  {
   "cell_type": "code",
   "execution_count": 44,
   "metadata": {},
   "outputs": [
    {
     "name": "stdout",
     "output_type": "stream",
     "text": [
      "[NbConvertApp] Converting notebook readme.ipynb to markdown\n",
      "[NbConvertApp] Writing 9423 bytes to readme.md\n",
      "readme.ipynb\n",
      "nostalgiaforever/continuous.ipynb\n",
      "nostalgiaforever/formal.ipynb\n",
      "nostalgiaforever/informal.ipynb\n",
      "nostalgiaforever/plugin.ipynb\n",
      "nostalgiaforever/util.ipynb\n",
      "tests/test_nostalgia.ipynb\n"
     ]
    }
   ],
   "source": [
    "    from pathlib import Path\n",
    "    if __name__ == '__main__':\n",
    "        !jupyter nbconvert --to markdown readme.ipynb\n",
    "        for path in Path('.').rglob('*.ipynb'):\n",
    "            if all(not part.startswith('.') for part in path.parts):\n",
    "                to = ('docs' / path)\n",
    "                print(path)\n",
    "                to.parent.mkdir(exist_ok=True)\n",
    "                MarkdownExporter(preprocessors=[ReplaceLinks()]).from_filename(path)[0]\n",
    "                to.with_suffix('.md').write_text(\n",
    "                    (\"---\\n\"*2 if len(path.parts) > 1 else \"\") + MarkdownExporter(preprocess=[ReplaceLinks()]).from_filename(path)[0])"
   ]
  },
  {
   "cell_type": "code",
   "execution_count": null,
   "metadata": {},
   "outputs": [],
   "source": []
  }
 ],
 "metadata": {
  "kernelspec": {
   "display_name": "p6",
   "language": "python",
   "name": "other-env"
  },
  "language_info": {
   "codemirror_mode": {
    "name": "ipython",
    "version": 3
   },
   "file_extension": ".py",
   "mimetype": "text/x-python",
   "name": "python",
   "nbconvert_exporter": "python",
   "pygments_lexer": "ipython3",
   "version": "3.6.3"
  }
 },
 "nbformat": 4,
 "nbformat_minor": 2
}
