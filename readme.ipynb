{
 "cells": [
  {
   "cell_type": "markdown",
   "metadata": {},
   "source": [
    "# A Notebook is a Hypothesis\n",
    "\n",
    "Modern scientists are transitioning to a generation where notebooks are common currency. Consider how testing and documentation are crucial aspect of reusable open source software. Those best practices evolved to support the communities developing that software. Generations of open source established idioms and style guides which enable software collaboration at global scale. Now, access to reusable software is blending with modern science, where both disciplines share similar global ambitions to solve increasing complex, multi-objective problems.\n",
    "\n",
    "Consequently, notebooks have evolved past being a medium for personal insight to become assets for community innovation. They represent extra-personal objects for scientists who have evaluated procedural \"units of thought\" as computational narratives. In a way, a notebook represents a modern form of hypothesis, and scientists must get comfortable sharing them rapidly. Unfortunately, new authors lack conventions for sharing notebooks as hypotheses within a scientific community. This talk presents tactics from literate programming to create readable, reusable, and reproducible notebooks. These notebook authoring practices promote improved documentation and unit testing."
   ]
  },
  {
   "cell_type": "markdown",
   "metadata": {},
   "source": [
    "## Key Takeaways\n",
    "\n",
    "* Notebook can be used as modules.\n",
    "* The first test is the hardest to write.\n",
    "* Notebooks can be used for testing and software.\n",
    "* Existing testing frameworks can be used with notebooks.\n",
    "* Reproducible notebooks can be used as modules.\n",
    "* Styles guides\n",
    "* You are your own contextmanager with garbage collection."
   ]
  },
  {
   "cell_type": "code",
   "execution_count": 1,
   "metadata": {},
   "outputs": [],
   "source": [
    "    from IPython import get_ipython"
   ]
  },
  {
   "cell_type": "markdown",
   "metadata": {},
   "source": [
    "# A Notebook is a Hypothesis\n",
    "\n",
    "1. [If a notebook is hypothesis then it can be tested.](nostalgiaforever/informal.ipynb)\n",
    "2. [If a notebook is a hypothesis then it can be formally tested.](nostalgiaforever/formal.ipynb)\n",
    "3. [If a notebook is a hypothesis then it will be tested.](nostalgiaforever/automation.ipynb)"
   ]
  },
  {
   "cell_type": "markdown",
   "metadata": {},
   "source": [
    "# Watcher\n",
    "\n",
    "if True:\n",
    "\n",
    "    !source activate p6 && pushd nostalgiaforever && watchmedo tricks tricks.yml"
   ]
  },
  {
   "cell_type": "markdown",
   "metadata": {},
   "source": [
    "## Before the talk\n",
    "\n",
    "* Restart your machine\n",
    "* Install the requirements\n",
    "* Make sure a terminal is open a Python 3.6 environment @ ./nostalgiaforever/\n",
    "* Prepare the fonts."
   ]
  },
  {
   "cell_type": "code",
   "execution_count": 7,
   "metadata": {},
   "outputs": [
    {
     "name": "stdout",
     "output_type": "stream",
     "text": [
      "Overwriting nostalgiaforever/tricks.yml\n"
     ]
    }
   ],
   "source": [
    "    %%file nostalgiaforever/tricks.yml\n",
    "    tricks:\n",
    "    - importnb.utils.watch.ModuleTrick:\n",
    "        patterns: ['*.ipynb']\n",
    "        shell_command: >\n",
    "          ipython -m ${watch_dest_path} --config ipyconfig.py && echo '---'"
   ]
  },
  {
   "cell_type": "code",
   "execution_count": null,
   "metadata": {},
   "outputs": [],
   "source": []
  }
 ],
 "metadata": {
  "kernelspec": {
   "display_name": "p6",
   "language": "python",
   "name": "other-env"
  },
  "language_info": {
   "codemirror_mode": {
    "name": "ipython",
    "version": 3
   },
   "file_extension": ".py",
   "mimetype": "text/x-python",
   "name": "python",
   "nbconvert_exporter": "python",
   "pygments_lexer": "ipython3",
   "version": "3.6.3"
  }
 },
 "nbformat": 4,
 "nbformat_minor": 2
}
