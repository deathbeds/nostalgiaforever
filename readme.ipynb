{
 "cells": [
  {
   "cell_type": "markdown",
   "metadata": {},
   "source": [
    "[![Binder](https://mybinder.org/badge.svg)](https://mybinder.org/v2/gh/deathbeds/nostalgiaforever/master)\n",
    "\n",
    "    pip install nostalgiaforever\n",
    "\n",
    "# A Notebook is a Hypothesis\n",
    "\n",
    "Modern scientists are transitioning to a generation where notebooks are common currency. Consider how testing and documentation are crucial aspect of reusable open source software. Those best practices evolved to support the communities developing that software. Generations of open source established idioms and style guides which enable software collaboration at global scale. Now, access to reusable software is blending with modern science, where both disciplines share similar global ambitions to solve increasing complex, multi-objective problems.\n",
    "\n",
    "Consequently, notebooks have evolved past being a medium for personal insight to become assets for community innovation. They represent extra-personal objects for scientists who have evaluated procedural \"units of thought\" as computational narratives. In a way, a notebook represents a modern form of hypothesis, and scientists must get comfortable sharing them rapidly. Unfortunately, new authors lack conventions for sharing notebooks as hypotheses within a scientific community. This talk presents tactics from literate programming to create readable, reusable, and reproducible notebooks. These notebook authoring practices promote improved documentation and unit testing."
   ]
  },
  {
   "cell_type": "markdown",
   "metadata": {},
   "source": [
    "## Key Takeaways\n",
    "\n",
    "* Notebooks can be used for testing and software.\n",
    "* Best practices for composing testable computational essays.\n",
    "* Existing testing frameworks can be used with notebooks.\n"
   ]
  },
  {
   "cell_type": "code",
   "execution_count": 1,
   "metadata": {},
   "outputs": [],
   "source": [
    "    from IPython import get_ipython"
   ]
  },
  {
   "cell_type": "markdown",
   "metadata": {},
   "source": [
    "## Order\n",
    "\n",
    "1. [`readme.ipynb`](readme.ipynb)\n",
    "1. [`importing.ipynb`](nostalgiaforever/importing.ipynb)\n",
    "2. [`testing.ipynb`](nostalgiaforever/testing.ipynb)\n",
    "3. [`reuse.ipynb`](nostalgiaforever/reuse.ipynb)"
   ]
  },
  {
   "cell_type": "markdown",
   "metadata": {},
   "source": [
    "## Before the talk\n",
    "\n",
    "* Restart your machine\n",
    "* Start the watcher\n",
    "\n",
    "    source activate p6 && cd nostalgiaforever && watchmedo tricks tricks.yml\n",
    "            \n",
    "* Prepare the Fira Code fonts https://github.com/deathbeds/jupyterlab-fonts.\n",
    "* Hey art nerd! Turn the color on!"
   ]
  },
  {
   "cell_type": "markdown",
   "metadata": {},
   "source": [
    "# Build the docs.\n",
    "\n",
    "[Github Pages](https://deathbeds.github.io/nostalgiaforever/)"
   ]
  },
  {
   "cell_type": "code",
   "execution_count": 5,
   "metadata": {},
   "outputs": [
    {
     "data": {
      "text/markdown": [
       "# Watcher"
      ],
      "text/plain": [
       "# Watcher"
      ]
     },
     "metadata": {},
     "output_type": "display_data"
    }
   ],
   "source": [
    "# Watcher\n",
    "\n",
    "    source activate p6 && cd nostalgiaforever/ && watchmedo tricks tricks.yml"
   ]
  },
  {
   "cell_type": "code",
   "execution_count": 2,
   "metadata": {},
   "outputs": [],
   "source": [
    "    from nbconvert.exporters.markdown import MarkdownExporter\n",
    "    from nbconvert.preprocessors import Preprocessor\n",
    "    class ReplaceLinks(Preprocessor):\n",
    "        def preprocess_cell(self, cell, resources=None, index=0):\n",
    "            if cell['cell_type'] == 'markdown':\n",
    "                if isinstance(cell['source'], list): \n",
    "                    cell['source'] = ''.join(cell['source'])\n",
    "                cell['source'] = cell['source'].replace('.ipynb', '')\n",
    "            return cell, resources"
   ]
  },
  {
   "cell_type": "code",
   "execution_count": 3,
   "metadata": {},
   "outputs": [
    {
     "name": "stdout",
     "output_type": "stream",
     "text": [
      "[NbConvertApp] Converting notebook readme.ipynb to markdown\n",
      "[NbConvertApp] Writing 4266 bytes to readme.md\n",
      "readme.ipynb\n",
      "nostalgiaforever/importing.ipynb\n",
      "nostalgiaforever/plugin.ipynb\n",
      "nostalgiaforever/reuse.ipynb\n",
      "nostalgiaforever/testing.ipynb\n",
      "nostalgiaforever/util.ipynb\n",
      "test/test_nostalgia.ipynb\n"
     ]
    }
   ],
   "source": [
    "    from pathlib import Path\n",
    "    if __name__ == '__main__':\n",
    "        !jupyter nbconvert --to markdown readme.ipynb\n",
    "        for path in Path('.').rglob('*.ipynb'):\n",
    "            if all(not part.startswith('.') for part in path.parts):\n",
    "                to = ('docs' / path)\n",
    "                print(path)\n",
    "                to.parent.mkdir(exist_ok=True)\n",
    "                MarkdownExporter(preprocessors=[ReplaceLinks()]).from_filename(path)[0]\n",
    "                to.with_suffix('.md').write_text(\n",
    "                    (\"---\\n\"*2 if len(path.parts) > 1 else \"\") + MarkdownExporter(preprocess=[ReplaceLinks()]).from_filename(path)[0])\n",
    "        "
   ]
  },
  {
   "cell_type": "markdown",
   "metadata": {},
   "source": [
    "# Run unit tests."
   ]
  },
  {
   "cell_type": "code",
   "execution_count": 4,
   "metadata": {},
   "outputs": [
    {
     "name": "stderr",
     "output_type": "stream",
     "text": [
      ".\n",
      "----------------------------------------------------------------------\n",
      "Ran 1 test in 0.001s\n",
      "\n",
      "OK\n"
     ]
    }
   ],
   "source": [
    "    if __name__ == '__main__':\n",
    "        try:\n",
    "            __import__('unittest').main('test', argv='--verbose'.split())\n",
    "        except SystemExit: ..."
   ]
  },
  {
   "cell_type": "markdown",
   "metadata": {},
   "source": [
    "    if __name__ == '__main__':\n",
    "        !source activate p6 && ipython --profile pidgin -m nostalgiaforever.importing\n",
    "        !source activate p6 && ipython --profile pidgin -m nostalgiaforever.testing\n",
    "        !source activate p6 && ipython --profile pidgin -m nostalgiaforever.reuse"
   ]
  }
 ],
 "metadata": {
  "kernelspec": {
   "display_name": "p6",
   "language": "python",
   "name": "other-env"
  },
  "language_info": {
   "codemirror_mode": {
    "name": "ipython",
    "version": 3
   },
   "file_extension": ".py",
   "mimetype": "text/x-python",
   "name": "python",
   "nbconvert_exporter": "python",
   "pygments_lexer": "ipython3",
   "version": "3.6.3"
  }
 },
 "nbformat": 4,
 "nbformat_minor": 2
}
